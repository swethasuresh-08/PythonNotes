{
  "nbformat": 4,
  "nbformat_minor": 0,
  "metadata": {
    "colab": {
      "provenance": [],
      "authorship_tag": "ABX9TyN96jKGnuqXhs+a5/59nAlw",
      "include_colab_link": true
    },
    "kernelspec": {
      "name": "python3",
      "display_name": "Python 3"
    },
    "language_info": {
      "name": "python"
    }
  },
  "cells": [
    {
      "cell_type": "markdown",
      "metadata": {
        "id": "view-in-github",
        "colab_type": "text"
      },
      "source": [
        "<a href=\"https://colab.research.google.com/github/swethasuresh-08/PythonNotes/blob/main/pythonBasicEx2.ipynb\" target=\"_parent\"><img src=\"https://colab.research.google.com/assets/colab-badge.svg\" alt=\"Open In Colab\"/></a>"
      ]
    },
    {
      "cell_type": "code",
      "execution_count": 3,
      "metadata": {
        "colab": {
          "base_uri": "https://localhost:8080/"
        },
        "id": "OMgofKakM-oO",
        "outputId": "450565c8-8d8d-49ca-db39-356a7ef8879e"
      },
      "outputs": [
        {
          "output_type": "stream",
          "name": "stdout",
          "text": [
            "Hi MDT46A\n"
          ]
        }
      ],
      "source": [
        "print('Hi MDT46A')"
      ]
    },
    {
      "cell_type": "code",
      "source": [
        "A=10\n",
        "A=20\n",
        "#A has same address,so 10 will be replaced by 20\n",
        "print(A+A)\n"
      ],
      "metadata": {
        "colab": {
          "base_uri": "https://localhost:8080/"
        },
        "id": "Zwsou9PQRmfd",
        "outputId": "dd34a4e4-3fcb-4a41-841a-b16a46e39af7"
      },
      "execution_count": 4,
      "outputs": [
        {
          "output_type": "stream",
          "name": "stdout",
          "text": [
            "40\n"
          ]
        }
      ]
    },
    {
      "cell_type": "code",
      "source": [],
      "metadata": {
        "id": "5MAOE8ATR9SK"
      },
      "execution_count": null,
      "outputs": []
    }
  ]
}