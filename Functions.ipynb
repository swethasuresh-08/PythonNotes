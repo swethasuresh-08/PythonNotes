{
  "nbformat": 4,
  "nbformat_minor": 0,
  "metadata": {
    "colab": {
      "provenance": [],
      "authorship_tag": "ABX9TyNftCM0OwUCgoV46cKXNZpG",
      "include_colab_link": true
    },
    "kernelspec": {
      "name": "python3",
      "display_name": "Python 3"
    },
    "language_info": {
      "name": "python"
    }
  },
  "cells": [
    {
      "cell_type": "markdown",
      "metadata": {
        "id": "view-in-github",
        "colab_type": "text"
      },
      "source": [
        "<a href=\"https://colab.research.google.com/github/swethasuresh-08/PythonNotes/blob/main/Functions.ipynb\" target=\"_parent\"><img src=\"https://colab.research.google.com/assets/colab-badge.svg\" alt=\"Open In Colab\"/></a>"
      ]
    },
    {
      "cell_type": "code",
      "execution_count": null,
      "metadata": {
        "colab": {
          "base_uri": "https://localhost:8080/"
        },
        "id": "qawiTYe4n5ID",
        "outputId": "b5a87439-ff8f-4f26-b493-2c99eb7ce8d0"
      },
      "outputs": [
        {
          "output_type": "execute_result",
          "data": {
            "text/plain": [
              "55"
            ]
          },
          "metadata": {},
          "execution_count": 1
        }
      ],
      "source": [
        "sum([1,2,3,4,5,6,7,8,9,10])"
      ]
    },
    {
      "cell_type": "code",
      "source": [
        "Numbers=[1,2,3,4,5,6,7,8,9,10]\n",
        "total=0\n",
        "for i in Numbers:\n",
        "  total=total+i\n",
        "print(total)"
      ],
      "metadata": {
        "colab": {
          "base_uri": "https://localhost:8080/"
        },
        "id": "s0fIjTvzoBcB",
        "outputId": "096d1f11-d4b2-42ab-9872-3ea93f63d885"
      },
      "execution_count": null,
      "outputs": [
        {
          "output_type": "stream",
          "name": "stdout",
          "text": [
            "55\n"
          ]
        }
      ]
    },
    {
      "cell_type": "markdown",
      "source": [
        "#PreDefined Function\n",
        "List.append(),List.pop(),List.sort(),List.reverse()\n",
        "#InBuilt Function\n",
        "input(),zip(),enumerate(),print(),len(),sum(),min(),max(),\n",
        "#User Defined Function\n",
        "def function_name():"
      ],
      "metadata": {
        "id": "VE2afpREot1v"
      }
    },
    {
      "cell_type": "code",
      "source": [
        "Numbers=[1,2,3,4,5,6,7,8,9,10]\n",
        "outputList=[]\n",
        "for i in Numbers:\n",
        "  outputList.append((i*i+i))\n",
        "outputList"
      ],
      "metadata": {
        "colab": {
          "base_uri": "https://localhost:8080/"
        },
        "id": "Zw5D9nXNpny1",
        "outputId": "c261ce29-5327-4413-ffde-204843dcb0b6"
      },
      "execution_count": null,
      "outputs": [
        {
          "output_type": "execute_result",
          "data": {
            "text/plain": [
              "[2, 6, 12, 20, 30, 42, 56, 72, 90, 110]"
            ]
          },
          "metadata": {},
          "execution_count": 11
        }
      ]
    },
    {
      "cell_type": "code",
      "source": [
        "outputList.clear()\n",
        "def MulAdd(i):\n",
        "  return (i*i+i)\n",
        "\n",
        "Numbers=[1,2,3,4,5,6,7,8,9,10]\n",
        "for i in Numbers:\n",
        "   outputList.append(MulAdd(i))\n",
        "outputList"
      ],
      "metadata": {
        "colab": {
          "base_uri": "https://localhost:8080/"
        },
        "id": "KHZdwrUSqRjC",
        "outputId": "6ce04514-8108-464f-a79c-4968b140f543"
      },
      "execution_count": null,
      "outputs": [
        {
          "output_type": "execute_result",
          "data": {
            "text/plain": [
              "[2, 6, 12, 20, 30, 42, 56, 72, 90, 110]"
            ]
          },
          "metadata": {},
          "execution_count": 17
        }
      ]
    },
    {
      "cell_type": "code",
      "source": [],
      "metadata": {
        "colab": {
          "base_uri": "https://localhost:8080/"
        },
        "id": "vNduHJJr5_NI",
        "outputId": "0aefb1bb-2ad5-4f2d-9372-622163d8124f"
      },
      "execution_count": null,
      "outputs": [
        {
          "output_type": "execute_result",
          "data": {
            "text/plain": [
              "[2, 6, 12, 20, 30, 42, 56, 72, 90, 110]"
            ]
          },
          "metadata": {},
          "execution_count": 16
        }
      ]
    },
    {
      "cell_type": "markdown",
      "source": [
        "There are three type of Arg\n",
        "Default Argument\n",
        "Aribitary argument\n",
        "keyword argument\n"
      ],
      "metadata": {
        "id": "uLCmGgIyDiCv"
      }
    },
    {
      "cell_type": "code",
      "source": [
        "def user_details(Name,age): #None - default argument\n",
        "  print(Name,age)\n",
        "\n",
        "\n",
        "user_details('Swe',25)\n"
      ],
      "metadata": {
        "colab": {
          "base_uri": "https://localhost:8080/"
        },
        "id": "rPZoB1gy6tZP",
        "outputId": "ccac4bfa-7f7b-4632-ea69-562dc804759f"
      },
      "execution_count": null,
      "outputs": [
        {
          "output_type": "stream",
          "name": "stdout",
          "text": [
            "Swe 25\n"
          ]
        }
      ]
    },
    {
      "cell_type": "code",
      "source": [
        "def user_details(*args): #*args-arbitrary can take any number of args\n",
        "  print(args[0])\n",
        "\n",
        "\n",
        "\n",
        "user_details('Swe',25,'Chennai')"
      ],
      "metadata": {
        "colab": {
          "base_uri": "https://localhost:8080/"
        },
        "id": "lRtKh3r4IJ2Q",
        "outputId": "4ab35329-4d52-4208-fec8-04c4fb9fe45f"
      },
      "execution_count": null,
      "outputs": [
        {
          "output_type": "stream",
          "name": "stdout",
          "text": [
            "Swe\n"
          ]
        }
      ]
    },
    {
      "cell_type": "code",
      "source": [
        "def user_details(**args):\n",
        "    print(args.get('Name'))\n",
        "    for key,value in args.items():\n",
        "      print(key,value)\n",
        "    print(args.values())\n",
        "\n",
        "\n",
        "\n",
        "user_details(Name='Swe',age=25,city='Chennai')\n"
      ],
      "metadata": {
        "colab": {
          "base_uri": "https://localhost:8080/"
        },
        "id": "VZCj8sMEKYpd",
        "outputId": "9d8d0723-3c98-409c-b6ab-7ce53ee39780"
      },
      "execution_count": null,
      "outputs": [
        {
          "output_type": "stream",
          "name": "stdout",
          "text": [
            "Swe\n",
            "Name Swe\n",
            "age 25\n",
            "city Chennai\n",
            "dict_values(['Swe', 25, 'Chennai'])\n"
          ]
        }
      ]
    },
    {
      "cell_type": "markdown",
      "source": [
        "The map() function applies a function to every item in an iterable (like a list or tuple) and returns a new map object (which you can turn into a list, tuple, etc.)."
      ],
      "metadata": {
        "id": "-gscgyTCM0t_"
      }
    },
    {
      "cell_type": "code",
      "source": [
        "#default arg take based on position ,if position change it ll give wrong output\n"
      ],
      "metadata": {
        "id": "HpGcHmo7Oqod"
      },
      "execution_count": null,
      "outputs": []
    },
    {
      "cell_type": "code",
      "source": [
        "def user_details(Name,Age,City): #None - default argument\n",
        "  print(f'Name is {Name},Age is {Age},City is {City}')\n",
        "\n",
        "\n",
        "user_details('Swe',25,'Chennai')\n",
        "user_details(25,'Chennai','Swe')"
      ],
      "metadata": {
        "colab": {
          "base_uri": "https://localhost:8080/"
        },
        "id": "DSfPgxQvO3Wy",
        "outputId": "228a1586-934c-4a4e-959a-c0cd35291933"
      },
      "execution_count": null,
      "outputs": [
        {
          "output_type": "stream",
          "name": "stdout",
          "text": [
            "Name is Swe,Age is 25,City is Chennai\n",
            "Name is 25,Age is Chennai,City is Swe\n"
          ]
        }
      ]
    },
    {
      "cell_type": "code",
      "source": [
        "#To overcome dat we use keyword Argument\n",
        "def bonus(experience,salary):\n",
        "  return salary*12*0.01*experience\n",
        "def user_details(**args):\n",
        "  Name=args.get('Name')\n",
        "  Age=args.get('Age','NA')\n",
        "  City=args.get('city')\n",
        "  YOE=args.get('YOE')\n",
        "  Salary=args.get('Salary')\n",
        "  Bonus=bonus(YOE,Salary)\n",
        "  print(f'Name is {Name},Age is {Age},City is {City}, Bonus is {Bonus}')\n",
        "\n",
        "user_details(Name='Swe',Age=25,City='Chennai',YOE=5,Salary=50000)#Paramter\n"
      ],
      "metadata": {
        "colab": {
          "base_uri": "https://localhost:8080/"
        },
        "id": "AccRVVntPNDC",
        "outputId": "2664531f-848a-47b3-a424-03d03bbe67db"
      },
      "execution_count": null,
      "outputs": [
        {
          "output_type": "stream",
          "name": "stdout",
          "text": [
            "Name is Swe,Age is 25,City is None, Bonus is 30000.0\n"
          ]
        }
      ]
    },
    {
      "cell_type": "code",
      "source": [
        "def MulAdd(*nums):\n",
        "  output=[]\n",
        "  for i in nums:\n",
        "\n",
        "    output.append((i*i+i))\n",
        "  return output\n",
        "\n",
        "MulAdd(1,2,3,4,5,6,7,8,9,10)"
      ],
      "metadata": {
        "colab": {
          "base_uri": "https://localhost:8080/"
        },
        "id": "ndAkqbmpXQM-",
        "outputId": "85715e18-42d3-41d6-ebe5-67209ce9076b"
      },
      "execution_count": 21,
      "outputs": [
        {
          "output_type": "execute_result",
          "data": {
            "text/plain": [
              "[2, 6, 12, 20, 30, 42, 56, 72, 90, 110]"
            ]
          },
          "metadata": {},
          "execution_count": 21
        }
      ]
    },
    {
      "cell_type": "code",
      "source": [
        "def MulAdd(*nums):\n",
        "  output=[]\n",
        "  for i in nums:\n",
        "    i=int(i)\n",
        "    output.append((i*i+i))\n",
        "  return output[0]\n",
        "\n",
        "User_Input=input('Enter the Number :').split() #Converts a string into list by default\n",
        "print(User_Input)\n",
        "\n",
        "Num=list(map(MulAdd,User_Input))\n",
        "Num"
      ],
      "metadata": {
        "id": "sAomu5DXQoDT",
        "colab": {
          "base_uri": "https://localhost:8080/"
        },
        "outputId": "2617c0d4-2ea9-4f52-e3e1-52f1a6a3639f"
      },
      "execution_count": 24,
      "outputs": [
        {
          "output_type": "stream",
          "name": "stdout",
          "text": [
            "Enter the Number :1 2 3\n",
            "['1', '2', '3']\n"
          ]
        },
        {
          "output_type": "execute_result",
          "data": {
            "text/plain": [
              "[2, 6, 12]"
            ]
          },
          "metadata": {},
          "execution_count": 24
        }
      ]
    },
    {
      "cell_type": "markdown",
      "source": [
        "## Math Functions\n",
        "Built in Math functions\n",
        "abs()\n",
        "min()\n",
        "max()\n",
        "pow()\n",
        "round()\n",
        "divmod()"
      ],
      "metadata": {
        "id": "GhlpPdqBZ_C3"
      }
    },
    {
      "cell_type": "code",
      "source": [
        "abs(-5)"
      ],
      "metadata": {
        "colab": {
          "base_uri": "https://localhost:8080/"
        },
        "id": "0oWF78_nZ7_6",
        "outputId": "a8221a38-15f7-4a62-a40e-85823c9cd2cb"
      },
      "execution_count": 25,
      "outputs": [
        {
          "output_type": "execute_result",
          "data": {
            "text/plain": [
              "5"
            ]
          },
          "metadata": {},
          "execution_count": 25
        }
      ]
    },
    {
      "cell_type": "code",
      "source": [
        "round(5.88)\n",
        "int(5.88)\n",
        "round(31.56788,2)"
      ],
      "metadata": {
        "colab": {
          "base_uri": "https://localhost:8080/"
        },
        "id": "R-HUUlzyaQtp",
        "outputId": "1c81f6c2-cb7e-49e4-a5f3-c9c56cc42d57"
      },
      "execution_count": 36,
      "outputs": [
        {
          "output_type": "execute_result",
          "data": {
            "text/plain": [
              "31.57"
            ]
          },
          "metadata": {},
          "execution_count": 36
        }
      ]
    },
    {
      "cell_type": "code",
      "source": [
        "min(1,2,3)\n",
        "max(1,2,3)\n",
        "pow(2,3)\n",
        "divmod(10,2) #Returns both qoutient and reminder"
      ],
      "metadata": {
        "colab": {
          "base_uri": "https://localhost:8080/"
        },
        "id": "5cPaOlX-acJK",
        "outputId": "c8a51bf9-8def-488b-b487-3393f03beda3"
      },
      "execution_count": 33,
      "outputs": [
        {
          "output_type": "execute_result",
          "data": {
            "text/plain": [
              "(5, 0)"
            ]
          },
          "metadata": {},
          "execution_count": 33
        }
      ]
    },
    {
      "cell_type": "code",
      "source": [
        "import math\n",
        "Number=float(input())\n",
        "Number\n",
        "round(Number,2)"
      ],
      "metadata": {
        "colab": {
          "base_uri": "https://localhost:8080/"
        },
        "id": "tH0V95WZbmV4",
        "outputId": "769ac51e-6602-496e-8c4e-bc4cd99ea6ce"
      },
      "execution_count": 40,
      "outputs": [
        {
          "name": "stdout",
          "output_type": "stream",
          "text": [
            "75.899\n"
          ]
        },
        {
          "output_type": "execute_result",
          "data": {
            "text/plain": [
              "75.9"
            ]
          },
          "metadata": {},
          "execution_count": 40
        }
      ]
    },
    {
      "cell_type": "code",
      "source": [
        "math.ceil(Number)"
      ],
      "metadata": {
        "colab": {
          "base_uri": "https://localhost:8080/"
        },
        "id": "G5tm02Abb2Lz",
        "outputId": "bc4bc03a-bd44-46bd-e9f4-a0fa77231344"
      },
      "execution_count": 41,
      "outputs": [
        {
          "output_type": "execute_result",
          "data": {
            "text/plain": [
              "76"
            ]
          },
          "metadata": {},
          "execution_count": 41
        }
      ]
    },
    {
      "cell_type": "code",
      "source": [
        "math.floor(Number)"
      ],
      "metadata": {
        "colab": {
          "base_uri": "https://localhost:8080/"
        },
        "id": "U3FfaZtJbvTG",
        "outputId": "a2c2235c-e8bc-45bf-8fe1-824a7e991422"
      },
      "execution_count": 42,
      "outputs": [
        {
          "output_type": "execute_result",
          "data": {
            "text/plain": [
              "75"
            ]
          },
          "metadata": {},
          "execution_count": 42
        }
      ]
    },
    {
      "cell_type": "markdown",
      "source": [
        "Error\n",
        "Type Error - 5+'Swe' - performing operations between two incompatible type\n",
        "Syntax Error - if a in range(10)- missing colon\n",
        "Value Error - int(\"Helloe\") - Cant give string in int\n",
        "Name Error - Using name without defining\n",
        "\n",
        "we use try and except\n",
        "\n"
      ],
      "metadata": {
        "id": "WRntTJHjm8t_"
      }
    },
    {
      "cell_type": "code",
      "source": [
        "#TYPE ERROR\n",
        "L=[1,2,3,4,'GUVI',5,6,7,8]\n",
        "\n",
        "for i in L:\n",
        "  try:\n",
        "    print(i+1)\n",
        "  except TypeError as e:\n",
        "    print( e)"
      ],
      "metadata": {
        "colab": {
          "base_uri": "https://localhost:8080/"
        },
        "id": "3R36eIGMndrx",
        "outputId": "0fc1cab8-9313-495f-9fa0-174b482f5452"
      },
      "execution_count": 44,
      "outputs": [
        {
          "output_type": "stream",
          "name": "stdout",
          "text": [
            "2\n",
            "3\n",
            "4\n",
            "5\n",
            "can only concatenate str (not \"int\") to str\n",
            "6\n",
            "7\n",
            "8\n",
            "9\n"
          ]
        }
      ]
    },
    {
      "cell_type": "code",
      "source": [
        "#VALUE ERROR\n",
        "\n",
        "\n",
        "try:\n",
        "  Number=int(input())\n",
        "except ValueError as e:\n",
        "  print(e)\n"
      ],
      "metadata": {
        "colab": {
          "base_uri": "https://localhost:8080/"
        },
        "id": "yZlHv1D3o-Bm",
        "outputId": "665b7fe9-dc56-4c1a-a07c-83a25771a2f6"
      },
      "execution_count": 47,
      "outputs": [
        {
          "output_type": "stream",
          "name": "stdout",
          "text": [
            "HELLO\n",
            "invalid literal for int() with base 10: 'HELLO'\n"
          ]
        }
      ]
    },
    {
      "cell_type": "code",
      "source": [
        "#Syntax Error\n",
        "if a in range(10)"
      ],
      "metadata": {
        "colab": {
          "base_uri": "https://localhost:8080/",
          "height": 106
        },
        "id": "QqpB-3qKbsXV",
        "outputId": "4bd07af2-d403-4077-e517-783fa776f5e4"
      },
      "execution_count": 48,
      "outputs": [
        {
          "output_type": "error",
          "ename": "SyntaxError",
          "evalue": "expected ':' (ipython-input-48-1466890080.py, line 2)",
          "traceback": [
            "\u001b[0;36m  File \u001b[0;32m\"/tmp/ipython-input-48-1466890080.py\"\u001b[0;36m, line \u001b[0;32m2\u001b[0m\n\u001b[0;31m    if a in range(10)\u001b[0m\n\u001b[0m                     ^\u001b[0m\n\u001b[0;31mSyntaxError\u001b[0m\u001b[0;31m:\u001b[0m expected ':'\n"
          ]
        }
      ]
    },
    {
      "cell_type": "code",
      "source": [
        "def fact(n):\n",
        "  factVal=1\n",
        "  for i in range(1,n+1):\n",
        "    print(i)\n",
        "    factVal=factVal*i\n",
        "  return factVal\n",
        "\n",
        "fact(5)"
      ],
      "metadata": {
        "colab": {
          "base_uri": "https://localhost:8080/"
        },
        "id": "3UXZfTYDpdg8",
        "outputId": "44975ef7-41d1-42e2-d969-5ee16497aa41"
      },
      "execution_count": 54,
      "outputs": [
        {
          "output_type": "stream",
          "name": "stdout",
          "text": [
            "1\n",
            "2\n",
            "3\n",
            "4\n",
            "5\n"
          ]
        },
        {
          "output_type": "execute_result",
          "data": {
            "text/plain": [
              "120"
            ]
          },
          "metadata": {},
          "execution_count": 54
        }
      ]
    },
    {
      "cell_type": "code",
      "source": [
        "def fact(n):\n",
        "  if n==0:\n",
        "    return 1\n",
        "  else:\n",
        "    return n*fact(n-1)\n",
        "fact(5)"
      ],
      "metadata": {
        "colab": {
          "base_uri": "https://localhost:8080/"
        },
        "id": "U0RP36QHqL8O",
        "outputId": "eedfa788-9295-4283-ac38-3f0fe6fa2d13"
      },
      "execution_count": 3,
      "outputs": [
        {
          "output_type": "execute_result",
          "data": {
            "text/plain": [
              "120"
            ]
          },
          "metadata": {},
          "execution_count": 3
        }
      ]
    }
  ]
}