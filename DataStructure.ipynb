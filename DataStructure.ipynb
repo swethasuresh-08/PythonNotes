{
  "nbformat": 4,
  "nbformat_minor": 0,
  "metadata": {
    "colab": {
      "provenance": [],
      "authorship_tag": "ABX9TyNiNEC80++r19E6HHrUlFeJ",
      "include_colab_link": true
    },
    "kernelspec": {
      "name": "python3",
      "display_name": "Python 3"
    },
    "language_info": {
      "name": "python"
    }
  },
  "cells": [
    {
      "cell_type": "markdown",
      "metadata": {
        "id": "view-in-github",
        "colab_type": "text"
      },
      "source": [
        "<a href=\"https://colab.research.google.com/github/swethasuresh-08/PythonNotes/blob/main/DataStructure.ipynb\" target=\"_parent\"><img src=\"https://colab.research.google.com/assets/colab-badge.svg\" alt=\"Open In Colab\"/></a>"
      ]
    },
    {
      "cell_type": "code",
      "execution_count": 1,
      "metadata": {
        "id": "t0YmePUOEh_Z"
      },
      "outputs": [],
      "source": [
        "#DS to store and efficiently handle data"
      ]
    },
    {
      "cell_type": "markdown",
      "source": [
        "2. Creating and Accessing List Elements\n",
        "\n",
        "🧱 Creating Lists Use square brackets [] or the list() constructor:"
      ],
      "metadata": {
        "id": "ADBUOhimUR63"
      }
    },
    {
      "cell_type": "code",
      "source": [
        "emptyList=[]\n",
        "another_empty_list = list() #Created using constructor\n",
        "\n",
        "tuple_to_list=list((1,2,3))\n",
        "tuple_to_list"
      ],
      "metadata": {
        "colab": {
          "base_uri": "https://localhost:8080/"
        },
        "id": "_veXoi6iIm0I",
        "outputId": "4816f4cc-a2bc-4a47-a761-0c4031fb339b"
      },
      "execution_count": 5,
      "outputs": [
        {
          "output_type": "execute_result",
          "data": {
            "text/plain": [
              "[1, 2, 3]"
            ]
          },
          "metadata": {},
          "execution_count": 5
        }
      ]
    },
    {
      "cell_type": "markdown",
      "source": [
        "| **Method**           | **Description**                                              | **Example**                    | **Output / Effect**                |\n",
        "| -------------------- | ------------------------------------------------------------ | ------------------------------ | ---------------------------------- |\n",
        "| `append(x)`          | Adds `x` at the end of the list                              | `[1, 2].append(3)`             | `[1, 2, 3]`                        |\n",
        "| `extend(iterable)`   | Adds all elements from `iterable`                            | `[1, 2].extend([3, 4])`        | `[1, 2, 3, 4]`                     |\n",
        "| `insert(i, x)`       | Inserts `x` at position `i`                                  | `[1, 3].insert(1, 2)`          | `[1, 2, 3]`                        |\n",
        "| `remove(x)`          | Removes first occurrence of `x`                              | `[1, 2, 2].remove(2)`          | `[1, 2]`                           |\n",
        "| `pop([i])`           | Removes and returns element at index `i` (last if not given) | `[1, 2, 3].pop()`              | Returns `3`, list becomes `[1, 2]` |\n",
        "| `clear()`            | Removes all elements from the list                           | `[1, 2, 3].clear()`            | `[]`                               |\n",
        "| `index(x)`           | Returns index of first occurrence of `x`                     | `[1, 2, 3].index(2)`           | `1`                                |\n",
        "| `count(x)`           | Returns number of occurrences of `x`                         | `[1, 2, 2].count(2)`           | `2`                                |\n",
        "| `sort()`             | Sorts list in ascending order                                | `[3, 1, 2].sort()`             | `[1, 2, 3]`                        |\n",
        "| `sort(reverse=True)` | Sorts in descending order                                    | `[1, 3, 2].sort(reverse=True)` | `[3, 2, 1]`                        |\n",
        "| `reverse()`          | Reverses the list                                            | `[1, 2, 3].reverse()`          | `[3, 2, 1]`                        |\n",
        "| `copy()`             | Returns a shallow copy of the list                           | `copy_list = [1, 2].copy()`    | `copy_list = [1, 2]`               |\n",
        "\n",
        "\n"
      ],
      "metadata": {
        "id": "C7KgKgZDVRbp"
      }
    },
    {
      "cell_type": "markdown",
      "source": [
        "| Feature          | **List**                                | **Tuple**                        |\n",
        "| ---------------- | --------------------------------------- | -------------------------------- |\n",
        "| **Syntax**       | `[]` (square brackets)                  | `()` (parentheses)               |\n",
        "| **Mutability**   | ✅ Mutable (can change)                  | ❌ Immutable (cannot change)      |\n",
        "| **Performance**  | Slightly slower                         | Slightly faster                  |\n",
        "| **Use Case**     | For dynamic data                        | For fixed, constant data         |\n",
        "| **Methods**      | Many built-in methods (`append`, `pop`) | Fewer methods (`count`, `index`) |\n",
        "| **Memory usage** | More (because it's flexible)            | Less (because it’s fixed)        |\n"
      ],
      "metadata": {
        "id": "M--pzV-54j28"
      }
    },
    {
      "cell_type": "code",
      "source": [
        "listNum=[1,2,3,4]\n",
        "listTuple=(1,2,3,4)"
      ],
      "metadata": {
        "id": "3g3T_aYq46M3"
      },
      "execution_count": 1,
      "outputs": []
    },
    {
      "cell_type": "code",
      "source": [
        "listNum"
      ],
      "metadata": {
        "colab": {
          "base_uri": "https://localhost:8080/"
        },
        "id": "Kco8duKB5HNj",
        "outputId": "ecdf41a0-c1d8-4b31-b935-aa8ee43914b4"
      },
      "execution_count": 2,
      "outputs": [
        {
          "output_type": "execute_result",
          "data": {
            "text/plain": [
              "[1, 2, 3, 4]"
            ]
          },
          "metadata": {},
          "execution_count": 2
        }
      ]
    },
    {
      "cell_type": "code",
      "source": [
        "listTuple"
      ],
      "metadata": {
        "colab": {
          "base_uri": "https://localhost:8080/"
        },
        "id": "x4kKtutm5JJD",
        "outputId": "fa195818-2b10-4915-ced6-000150bb4e32"
      },
      "execution_count": 3,
      "outputs": [
        {
          "output_type": "execute_result",
          "data": {
            "text/plain": [
              "(1, 2, 3, 4)"
            ]
          },
          "metadata": {},
          "execution_count": 3
        }
      ]
    },
    {
      "cell_type": "code",
      "source": [
        "BankDetails=[('SBI','Swetha','+91789654321'),'78.96']\n"
      ],
      "metadata": {
        "id": "5DEl9xB55LEn"
      },
      "execution_count": 4,
      "outputs": []
    },
    {
      "cell_type": "code",
      "source": [
        "listNum.append([10,20])"
      ],
      "metadata": {
        "id": "WFIQ1mZz5qMi"
      },
      "execution_count": 5,
      "outputs": []
    },
    {
      "cell_type": "code",
      "source": [
        "listNum"
      ],
      "metadata": {
        "colab": {
          "base_uri": "https://localhost:8080/"
        },
        "id": "8GcW0R0u6m2M",
        "outputId": "71e72bd8-befe-4812-96b9-5537a8942499"
      },
      "execution_count": 6,
      "outputs": [
        {
          "output_type": "execute_result",
          "data": {
            "text/plain": [
              "[1, 2, 3, 4, [10, 20]]"
            ]
          },
          "metadata": {},
          "execution_count": 6
        }
      ]
    },
    {
      "cell_type": "code",
      "source": [
        "listNum.extend([50,60])"
      ],
      "metadata": {
        "id": "hWj7Ga8N6oOS"
      },
      "execution_count": 7,
      "outputs": []
    },
    {
      "cell_type": "code",
      "source": [
        "listNum"
      ],
      "metadata": {
        "colab": {
          "base_uri": "https://localhost:8080/"
        },
        "id": "HaFRIceX6smM",
        "outputId": "9adf776f-3b88-48e4-d49d-a9e1814d4d43"
      },
      "execution_count": 8,
      "outputs": [
        {
          "output_type": "execute_result",
          "data": {
            "text/plain": [
              "[1, 2, 3, 4, [10, 20], 50, 60]"
            ]
          },
          "metadata": {},
          "execution_count": 8
        }
      ]
    },
    {
      "cell_type": "code",
      "source": [
        "A=[10,1,15,6]\n",
        "A.sort(reverse=True)\n",
        "A"
      ],
      "metadata": {
        "colab": {
          "base_uri": "https://localhost:8080/"
        },
        "id": "bposGEN76t-7",
        "outputId": "07b0f25b-e5da-47c1-a8e8-f083476d3b64"
      },
      "execution_count": 1,
      "outputs": [
        {
          "output_type": "execute_result",
          "data": {
            "text/plain": [
              "[15, 10, 6, 1]"
            ]
          },
          "metadata": {},
          "execution_count": 1
        }
      ]
    },
    {
      "cell_type": "code",
      "source": [
        "#List can modify Elements and it is mutable\n",
        "#Cant modify elements it is immutable\n",
        "listEx=[1,2,3,4]\n",
        "listEx.append([5,6])\n",
        "listEx.extend([7,8])\n",
        "listEx"
      ],
      "metadata": {
        "colab": {
          "base_uri": "https://localhost:8080/"
        },
        "id": "rW9dlxaB64IS",
        "outputId": "3f6a6a3f-af68-4dc1-be4a-8c7294628f6a"
      },
      "execution_count": 3,
      "outputs": [
        {
          "output_type": "execute_result",
          "data": {
            "text/plain": [
              "[1, 2, 3, 4, [5, 6], 7, 8]"
            ]
          },
          "metadata": {},
          "execution_count": 3
        }
      ]
    },
    {
      "cell_type": "markdown",
      "source": [
        "✅ append()\n",
        "\n",
        "Adds as a **single element to the end of the list**.\n",
        "\n",
        "If you pass a list, it adds the entire list as one element.\n",
        "\n",
        "\n",
        "\n",
        "```\n",
        "a = [1, 2]\n",
        "a.append([3, 4])\n",
        "print(a)  # Output: [1, 2, [3, 4]]\n",
        "```\n",
        "\n",
        "✅ extend()\n",
        "\n",
        "Adds elements from an iterable (like a list, tuple, string) to the list.\n",
        "\n",
        "It unpacks the iterable and adds each item individually.\n",
        "\n",
        "\n",
        "```\n",
        "a = [1, 2]\n",
        "a.extend([3, 4])\n",
        "print(a)  # Output: [1, 2, 3, 4]\n",
        "\n",
        "```\n",
        "\n"
      ],
      "metadata": {
        "id": "CyMGcHWwC4e2"
      }
    },
    {
      "cell_type": "code",
      "source": [
        "#pop function is used to remove last element or remove by index\n",
        "#remove function will remove element provided\n"
      ],
      "metadata": {
        "id": "LwAJodb-DjI4"
      },
      "execution_count": null,
      "outputs": []
    },
    {
      "cell_type": "markdown",
      "source": [
        "| Feature          | `pop()`                                           | `remove()`                                 |\n",
        "| ---------------- | ------------------------------------------------- | ------------------------------------------ |\n",
        "| **What it does** | Removes element by **index**                      | Removes element by **value**               |\n",
        "| **Returns?**     | ✅ Returns the removed item                        | ❌ Doesn’t return anything (returns `None`) |\n",
        "| **Default?**     | Removes the **last element** if no index is given | You **must provide a value**               |\n",
        "| **Error if...?** | ❌ Error if index is out of range                  | ❌ Error if value is not found              |\n",
        "\n",
        "\n",
        "```\n",
        "a = [10, 20, 30, 40]\n",
        "x = a.pop()       # Removes last item\n",
        "print(a)          # [10, 20, 30]\n",
        "print(x)          # 40\n",
        "\n",
        "y = a.pop(1)      # Removes element at index 1 (20)\n",
        "print(a)          # [10, 30]\n",
        "print(y)          # 20\n",
        "```\n",
        "\n",
        "\n",
        "```\n",
        "a = [10, 20, 30, 20]\n",
        "a.remove(20)      # Removes the first 20\n",
        "print(a)          # [10, 30, 20]\n",
        "```\n",
        "\n",
        "\n",
        "\n"
      ],
      "metadata": {
        "id": "BSMCQmQ6D7gs"
      }
    },
    {
      "cell_type": "markdown",
      "source": [
        " What is Slicing in Python?\n",
        "\n",
        "Slicing is a way to extract a portion (subset) of a sequence\n",
        "— like a list, string, or tuple — using index ranges.\n",
        "\n",
        "**sequence[start : stop : step]**\n",
        "\n",
        "| Part    | Meaning                    |\n",
        "| ------- | -------------------------- |\n",
        "| `start` | Starting index (inclusive) |\n",
        "| `stop`  | Ending index (exclusive)   |\n",
        "| `step`  | Interval between elements  |\n",
        "\n",
        "\n",
        "| Expression     | Meaning                           |\n",
        "| -------------- | --------------------------------- |\n",
        "| `list[-1]`     | Last item                         |\n",
        "| `list[-2]`     | Second last item                  |\n",
        "| `list[::-1]`   | Reverse the entire list/string    |\n",
        "| `list[-3::-1]` | From 3rd last to start in reverse |\n",
        "\n",
        "🔹 2. Negative Step in Slicing ([::-1])\n",
        "\n",
        "➡ It starts from the end and moves backward by 1.\n",
        "\n",
        "```\n",
        "👉 [::-1] means reverse the sequence.\n",
        "\n",
        "text = \"Python\"\n",
        "print(text[::-1])  # Output: \"nohtyP\"\n",
        "```\n",
        "\n"
      ],
      "metadata": {
        "id": "qAZqW_V_JGhO"
      }
    },
    {
      "cell_type": "code",
      "source": [
        "A.index(10)"
      ],
      "metadata": {
        "colab": {
          "base_uri": "https://localhost:8080/"
        },
        "id": "16YMHfGSV0w6",
        "outputId": "9bf5f5b7-14d9-4e6b-9312-911d51f5457f"
      },
      "execution_count": 10,
      "outputs": [
        {
          "output_type": "execute_result",
          "data": {
            "text/plain": [
              "1"
            ]
          },
          "metadata": {},
          "execution_count": 10
        }
      ]
    },
    {
      "cell_type": "code",
      "source": [
        "A.insert(1,50)\n",
        "A"
      ],
      "metadata": {
        "colab": {
          "base_uri": "https://localhost:8080/"
        },
        "id": "L8LDRXlcWLaK",
        "outputId": "35655c7c-904b-44fa-89fa-62a5f0a918c9"
      },
      "execution_count": 12,
      "outputs": [
        {
          "output_type": "execute_result",
          "data": {
            "text/plain": [
              "[15, 50, 50, 10, 6, 1]"
            ]
          },
          "metadata": {},
          "execution_count": 12
        }
      ]
    },
    {
      "cell_type": "markdown",
      "source": [],
      "metadata": {
        "id": "baET1JqDJUUn"
      }
    },
    {
      "cell_type": "code",
      "source": [
        "A[-3:1:-1]  #start index is -1\n",
        "            #end index is 1\n",
        "            #step==-1 means go in reverse direction"
      ],
      "metadata": {
        "colab": {
          "base_uri": "https://localhost:8080/"
        },
        "id": "K5VwRjIYEUDI",
        "outputId": "369684ab-3947-4d23-a39b-fd56f381b7dc"
      },
      "execution_count": 16,
      "outputs": [
        {
          "output_type": "execute_result",
          "data": {
            "text/plain": [
              "[10, 50]"
            ]
          },
          "metadata": {},
          "execution_count": 16
        }
      ]
    },
    {
      "cell_type": "code",
      "source": [
        "A[::-1] #means go in reverse direction wid one step\n"
      ],
      "metadata": {
        "colab": {
          "base_uri": "https://localhost:8080/"
        },
        "id": "Gwj2T3khW4mm",
        "outputId": "2842cbec-c07d-497f-d9d9-3208c8b25b15"
      },
      "execution_count": 17,
      "outputs": [
        {
          "output_type": "execute_result",
          "data": {
            "text/plain": [
              "[1, 6, 10, 50, 50, 15]"
            ]
          },
          "metadata": {},
          "execution_count": 17
        }
      ]
    },
    {
      "cell_type": "code",
      "source": [
        "print(A)\n",
        "print('Middle index is ',len(A)//2)\n",
        "A[len(A)//2]"
      ],
      "metadata": {
        "colab": {
          "base_uri": "https://localhost:8080/"
        },
        "id": "Sa7152-eXCPy",
        "outputId": "e215167e-338f-4f4a-d1fe-61e6b4b4604f"
      },
      "execution_count": 22,
      "outputs": [
        {
          "output_type": "stream",
          "name": "stdout",
          "text": [
            "[15, 50, 50, 10, 6, 1]\n",
            "Middle index is  3\n"
          ]
        },
        {
          "output_type": "execute_result",
          "data": {
            "text/plain": [
              "10"
            ]
          },
          "metadata": {},
          "execution_count": 22
        }
      ]
    },
    {
      "cell_type": "code",
      "source": [
        "A[-3:]"
      ],
      "metadata": {
        "colab": {
          "base_uri": "https://localhost:8080/"
        },
        "id": "p9f68fddXd-A",
        "outputId": "ad921daa-8804-4663-ec60-e11676f876a3"
      },
      "execution_count": 23,
      "outputs": [
        {
          "output_type": "execute_result",
          "data": {
            "text/plain": [
              "[10, 6, 1]"
            ]
          },
          "metadata": {},
          "execution_count": 23
        }
      ]
    },
    {
      "cell_type": "code",
      "source": [
        "Emp=tuple(['Swe',32,'Software Developer','CBE','+91-87456123','Vasanth','Jana','santhosh','Maddy'])\n",
        "Emp"
      ],
      "metadata": {
        "colab": {
          "base_uri": "https://localhost:8080/"
        },
        "id": "o1s2crQWYuef",
        "outputId": "7037e843-8bf7-4329-d8d6-a92c3e869619"
      },
      "execution_count": 27,
      "outputs": [
        {
          "output_type": "execute_result",
          "data": {
            "text/plain": [
              "('Swe',\n",
              " 32,\n",
              " 'Software Developer',\n",
              " 'CBE',\n",
              " '+91-87456123',\n",
              " 'Vasanth',\n",
              " 'Jana',\n",
              " 'santhosh',\n",
              " 'Maddy')"
            ]
          },
          "metadata": {},
          "execution_count": 27
        }
      ]
    },
    {
      "cell_type": "code",
      "source": [
        "Emp[::-1]"
      ],
      "metadata": {
        "colab": {
          "base_uri": "https://localhost:8080/"
        },
        "id": "L1Qo2MGwY_7-",
        "outputId": "d2b79e40-fbc4-4360-808b-974c48325f5e"
      },
      "execution_count": 28,
      "outputs": [
        {
          "output_type": "execute_result",
          "data": {
            "text/plain": [
              "('Maddy',\n",
              " 'santhosh',\n",
              " 'Jana',\n",
              " 'Vasanth',\n",
              " '+91-87456123',\n",
              " 'CBE',\n",
              " 'Software Developer',\n",
              " 32,\n",
              " 'Swe')"
            ]
          },
          "metadata": {},
          "execution_count": 28
        }
      ]
    },
    {
      "cell_type": "code",
      "source": [
        "Emp[-3::-1]"
      ],
      "metadata": {
        "colab": {
          "base_uri": "https://localhost:8080/"
        },
        "id": "WYJ3BTQ3ZVIh",
        "outputId": "7867c30c-f062-4d73-8b3c-8c78aeaf08ea"
      },
      "execution_count": 29,
      "outputs": [
        {
          "output_type": "execute_result",
          "data": {
            "text/plain": [
              "('Jana', 'Vasanth', '+91-87456123', 'CBE', 'Software Developer', 32, 'Swe')"
            ]
          },
          "metadata": {},
          "execution_count": 29
        }
      ]
    },
    {
      "cell_type": "code",
      "source": [
        "Emp[::2]"
      ],
      "metadata": {
        "colab": {
          "base_uri": "https://localhost:8080/"
        },
        "id": "_s46BjTgZaJ6",
        "outputId": "0e329a72-3b90-43d2-f9c6-3674322bee6c"
      },
      "execution_count": 33,
      "outputs": [
        {
          "output_type": "execute_result",
          "data": {
            "text/plain": [
              "('Swe', 'Software Developer', '+91-87456123', 'Jana', 'Maddy')"
            ]
          },
          "metadata": {},
          "execution_count": 33
        }
      ]
    },
    {
      "cell_type": "code",
      "source": [
        "Emp"
      ],
      "metadata": {
        "colab": {
          "base_uri": "https://localhost:8080/"
        },
        "id": "Od3gkY3KbgCH",
        "outputId": "72cae3ef-3827-410d-fa8f-ef8249653958"
      },
      "execution_count": 34,
      "outputs": [
        {
          "output_type": "execute_result",
          "data": {
            "text/plain": [
              "('Swe',\n",
              " 32,\n",
              " 'Software Developer',\n",
              " 'CBE',\n",
              " '+91-87456123',\n",
              " 'Vasanth',\n",
              " 'Jana',\n",
              " 'santhosh',\n",
              " 'Maddy')"
            ]
          },
          "metadata": {},
          "execution_count": 34
        }
      ]
    },
    {
      "cell_type": "code",
      "source": [
        "Emp[2][-8::-1]"
      ],
      "metadata": {
        "colab": {
          "base_uri": "https://localhost:8080/",
          "height": 36
        },
        "id": "4soJ3TzybjSe",
        "outputId": "f0d259c2-69cd-4de7-a716-faf88e2816cb"
      },
      "execution_count": 40,
      "outputs": [
        {
          "output_type": "execute_result",
          "data": {
            "text/plain": [
              "'eD erawtfoS'"
            ],
            "application/vnd.google.colaboratory.intrinsic+json": {
              "type": "string"
            }
          },
          "metadata": {},
          "execution_count": 40
        }
      ]
    },
    {
      "cell_type": "code",
      "source": [
        "Emp[2][0:5][::-1]"
      ],
      "metadata": {
        "colab": {
          "base_uri": "https://localhost:8080/",
          "height": 36
        },
        "id": "SJsN41OGclX6",
        "outputId": "02c55a4c-9d20-43ef-ca97-738fe98ee46b"
      },
      "execution_count": 41,
      "outputs": [
        {
          "output_type": "execute_result",
          "data": {
            "text/plain": [
              "'wtfoS'"
            ],
            "application/vnd.google.colaboratory.intrinsic+json": {
              "type": "string"
            }
          },
          "metadata": {},
          "execution_count": 41
        }
      ]
    },
    {
      "cell_type": "code",
      "source": [
        "#Set Doesnot allow duplicates\n",
        "#It Has only unique elements\n",
        "S=set([10,20,30,40,10,80,30])\n",
        "S #It Allows all Data types\n"
      ],
      "metadata": {
        "colab": {
          "base_uri": "https://localhost:8080/"
        },
        "id": "ZfpAVeCZdc-r",
        "outputId": "a803c495-d530-45f4-8df9-a398605f2ee8"
      },
      "execution_count": 42,
      "outputs": [
        {
          "output_type": "execute_result",
          "data": {
            "text/plain": [
              "{10, 20, 30, 40, 80}"
            ]
          },
          "metadata": {},
          "execution_count": 42
        }
      ]
    },
    {
      "cell_type": "code",
      "source": [
        "S[3]"
      ],
      "metadata": {
        "colab": {
          "base_uri": "https://localhost:8080/",
          "height": 141
        },
        "id": "3V1sBEeFeb7H",
        "outputId": "674ba81c-f1d0-4caf-b6be-a72ee2edc0a0"
      },
      "execution_count": 43,
      "outputs": [
        {
          "output_type": "error",
          "ename": "TypeError",
          "evalue": "'set' object is not subscriptable",
          "traceback": [
            "\u001b[0;31m---------------------------------------------------------------------------\u001b[0m",
            "\u001b[0;31mTypeError\u001b[0m                                 Traceback (most recent call last)",
            "\u001b[0;32m/tmp/ipython-input-43-3668772742.py\u001b[0m in \u001b[0;36m<cell line: 0>\u001b[0;34m()\u001b[0m\n\u001b[0;32m----> 1\u001b[0;31m \u001b[0mS\u001b[0m\u001b[0;34m[\u001b[0m\u001b[0;36m3\u001b[0m\u001b[0;34m]\u001b[0m\u001b[0;34m\u001b[0m\u001b[0;34m\u001b[0m\u001b[0m\n\u001b[0m",
            "\u001b[0;31mTypeError\u001b[0m: 'set' object is not subscriptable"
          ]
        }
      ]
    },
    {
      "cell_type": "code",
      "source": [
        "#Set is unordered and cant be accessed directly\n",
        "#We convert to list or tuple and access it\n",
        "S=list(S)\n",
        "S"
      ],
      "metadata": {
        "colab": {
          "base_uri": "https://localhost:8080/"
        },
        "id": "K4w9AtlReqyU",
        "outputId": "d673502f-963e-46b2-c528-6ec8640cbe62"
      },
      "execution_count": 45,
      "outputs": [
        {
          "output_type": "execute_result",
          "data": {
            "text/plain": [
              "[40, 10, 80, 20, 30]"
            ]
          },
          "metadata": {},
          "execution_count": 45
        }
      ]
    },
    {
      "cell_type": "code",
      "source": [
        "#Dictionary\n",
        "#Access it using Key Value Pair\n",
        "#key:value\n",
        "#NO duplicate key but values can be duplicate\n",
        "#Accepts all data types\n",
        "#It is mutuable\n",
        "#Key Should be meaningful Values\n",
        "Student={\n",
        "    'Name':'Kumar',\n",
        "    'Age':25,\n",
        "    'Subject':'Python',\n",
        "    'Marks':95,\n",
        "    'Std':'VI'\n",
        "}\n",
        "Student['Name']\n"
      ],
      "metadata": {
        "colab": {
          "base_uri": "https://localhost:8080/",
          "height": 36
        },
        "id": "VY6LvtR-gn8j",
        "outputId": "ecac4980-6909-410b-ae56-c8814af63c61"
      },
      "execution_count": 46,
      "outputs": [
        {
          "output_type": "execute_result",
          "data": {
            "text/plain": [
              "'Kumar'"
            ],
            "application/vnd.google.colaboratory.intrinsic+json": {
              "type": "string"
            }
          },
          "metadata": {},
          "execution_count": 46
        }
      ]
    },
    {
      "cell_type": "markdown",
      "source": [
        "Dictionary is fastest and comes Tuple\n"
      ],
      "metadata": {
        "id": "8Wg436sFn_TX"
      }
    },
    {
      "cell_type": "code",
      "source": [
        "Student_details={\n",
        "    'Name':['Ramesh','Suresh','Raja','Jana','Arjun'],\n",
        "    'RollNo':['VI-123','VI-124','VI-125','VI-126','VI-127'],\n",
        "    'Sec':['A','B','C','D','E'],\n",
        "    'Std':['VI','VI','VI','VI','VI']\n",
        "}\n",
        "Student_details"
      ],
      "metadata": {
        "colab": {
          "base_uri": "https://localhost:8080/"
        },
        "id": "OEU8ucxdoDnH",
        "outputId": "88e751ba-0ec0-4cd7-a9e1-ce9094e28ae4"
      },
      "execution_count": 2,
      "outputs": [
        {
          "output_type": "execute_result",
          "data": {
            "text/plain": [
              "{'Name': ['Ramesh', 'Suresh', 'Raja', 'Jana', 'Arjun'],\n",
              " 'RollNo': ['VI-123', 'VI-124', 'VI-125', 'VI-126', 'VI-127'],\n",
              " 'Sec': ['A', 'B', 'C', 'D', 'E'],\n",
              " 'Std': ['VI', 'VI', 'VI', 'VI', 'VI']}"
            ]
          },
          "metadata": {},
          "execution_count": 2
        }
      ]
    },
    {
      "cell_type": "code",
      "source": [
        "Student_details['Name'][3]"
      ],
      "metadata": {
        "colab": {
          "base_uri": "https://localhost:8080/",
          "height": 36
        },
        "id": "FnMcCAHHMisD",
        "outputId": "dba42935-1e2c-4ed9-8344-e9f4a27d65e6"
      },
      "execution_count": 3,
      "outputs": [
        {
          "output_type": "execute_result",
          "data": {
            "text/plain": [
              "'Jana'"
            ],
            "application/vnd.google.colaboratory.intrinsic+json": {
              "type": "string"
            }
          },
          "metadata": {},
          "execution_count": 3
        }
      ]
    },
    {
      "cell_type": "code",
      "source": [
        "Roll=input('Enter the Rollno : ').upper()\n",
        "index=Student_details['RollNo'].index(Roll)\n",
        "print('Student Name is : ',Student_details['Name'][index])"
      ],
      "metadata": {
        "colab": {
          "base_uri": "https://localhost:8080/"
        },
        "id": "38GuYPiSNHAB",
        "outputId": "35b3c43b-5621-473f-d3a8-e4e6bc600e82"
      },
      "execution_count": 9,
      "outputs": [
        {
          "output_type": "stream",
          "name": "stdout",
          "text": [
            "Enter the Rollno : vi-123\n",
            "Student Name is :  Ramesh\n"
          ]
        }
      ]
    },
    {
      "cell_type": "code",
      "source": [
        "Student_details.keys()"
      ],
      "metadata": {
        "colab": {
          "base_uri": "https://localhost:8080/"
        },
        "id": "-j8aZehRQX8g",
        "outputId": "cc6d01ec-1bbe-4d38-b1c2-97a90734b67e"
      },
      "execution_count": 10,
      "outputs": [
        {
          "output_type": "execute_result",
          "data": {
            "text/plain": [
              "dict_keys(['Name', 'RollNo', 'Sec', 'Std'])"
            ]
          },
          "metadata": {},
          "execution_count": 10
        }
      ]
    },
    {
      "cell_type": "code",
      "source": [
        "Student_details.values()"
      ],
      "metadata": {
        "colab": {
          "base_uri": "https://localhost:8080/"
        },
        "id": "X0FoxjxmQfk-",
        "outputId": "e1b0e648-d351-46e9-f0d3-4e125d0a4522"
      },
      "execution_count": 11,
      "outputs": [
        {
          "output_type": "execute_result",
          "data": {
            "text/plain": [
              "dict_values([['Ramesh', 'Suresh', 'Raja', 'Jana', 'Arjun'], ['VI-123', 'VI-124', 'VI-125', 'VI-126', 'VI-127'], ['A', 'B', 'C', 'D', 'E'], ['VI', 'VI', 'VI', 'VI', 'VI']])"
            ]
          },
          "metadata": {},
          "execution_count": 11
        }
      ]
    },
    {
      "cell_type": "code",
      "source": [
        "Student_details.items()"
      ],
      "metadata": {
        "colab": {
          "base_uri": "https://localhost:8080/"
        },
        "id": "2-unUyOYROI9",
        "outputId": "6cd0b7c5-021d-49a9-d061-03988b78bd02"
      },
      "execution_count": 13,
      "outputs": [
        {
          "output_type": "execute_result",
          "data": {
            "text/plain": [
              "dict_items([('Name', ['Ramesh', 'Suresh', 'Raja', 'Jana', 'Arjun']), ('RollNo', ['VI-123', 'VI-124', 'VI-125', 'VI-126', 'VI-127']), ('Sec', ['A', 'B', 'C', 'D', 'E']), ('Std', ['VI', 'VI', 'VI', 'VI', 'VI'])])"
            ]
          },
          "metadata": {},
          "execution_count": 13
        }
      ]
    },
    {
      "cell_type": "markdown",
      "source": [
        "Keys()- give key values\n",
        "\n",
        "values()-give values\n",
        "\n",
        "items()-give key value pair as answer"
      ],
      "metadata": {
        "id": "Vldf-aAVReGX"
      }
    },
    {
      "cell_type": "code",
      "source": [
        "#Dict is the mutable\n",
        "#accessed by key value pair\n",
        "#items give items as value\n"
      ],
      "metadata": {
        "id": "_T0z1GV5Rtd1"
      },
      "execution_count": 15,
      "outputs": []
    },
    {
      "cell_type": "code",
      "source": [
        "#Get() will give Key Values\n",
        "Student_details.get('Name')"
      ],
      "metadata": {
        "colab": {
          "base_uri": "https://localhost:8080/"
        },
        "id": "hAzkCGPXSJwt",
        "outputId": "e110f59b-7e32-43c9-be93-71570e48b3fa"
      },
      "execution_count": 17,
      "outputs": [
        {
          "output_type": "execute_result",
          "data": {
            "text/plain": [
              "['Ramesh', 'Suresh', 'Raja', 'Jana', 'Arjun']"
            ]
          },
          "metadata": {},
          "execution_count": 17
        }
      ]
    },
    {
      "cell_type": "code",
      "source": [
        "Student_details.get('name','Key Not Found')"
      ],
      "metadata": {
        "colab": {
          "base_uri": "https://localhost:8080/",
          "height": 36
        },
        "id": "hE36z-kRSMvK",
        "outputId": "f7d25350-6051-46ca-a370-b918257b94f8"
      },
      "execution_count": 18,
      "outputs": [
        {
          "output_type": "execute_result",
          "data": {
            "text/plain": [
              "'Key Not Found'"
            ],
            "application/vnd.google.colaboratory.intrinsic+json": {
              "type": "string"
            }
          },
          "metadata": {},
          "execution_count": 18
        }
      ]
    },
    {
      "cell_type": "code",
      "source": [
        "#get() does the same but will not throw error wen key is not found"
      ],
      "metadata": {
        "id": "VqB580WLTBb_"
      },
      "execution_count": 20,
      "outputs": []
    },
    {
      "cell_type": "code",
      "source": [
        "Student_details['Age']=[10,12,14,16]\n",
        "Student_details"
      ],
      "metadata": {
        "id": "J1ZBPFz3TRC7",
        "outputId": "93b0016e-c9cd-4df5-80ac-c0fe79850af4",
        "colab": {
          "base_uri": "https://localhost:8080/"
        }
      },
      "execution_count": 22,
      "outputs": [
        {
          "output_type": "execute_result",
          "data": {
            "text/plain": [
              "{'Name': ['Ramesh', 'Suresh', 'Raja', 'Jana', 'Arjun'],\n",
              " 'RollNo': ['VI-123', 'VI-124', 'VI-125', 'VI-126', 'VI-127'],\n",
              " 'Sec': ['A', 'B', 'C', 'D', 'E'],\n",
              " 'Std': ['VI', 'VI', 'VI', 'VI', 'VI'],\n",
              " 'Age': [10, 12, 14, 16]}"
            ]
          },
          "metadata": {},
          "execution_count": 22
        }
      ]
    },
    {
      "cell_type": "code",
      "source": [
        "Student_details.update({'Rank':[1,2,3]})\n",
        "Student_details"
      ],
      "metadata": {
        "id": "7-sAW904V2lp",
        "outputId": "d92d599e-2841-4456-9797-86f7f9532288",
        "colab": {
          "base_uri": "https://localhost:8080/"
        }
      },
      "execution_count": 24,
      "outputs": [
        {
          "output_type": "execute_result",
          "data": {
            "text/plain": [
              "{'Name': ['Ramesh', 'Suresh', 'Raja', 'Jana', 'Arjun'],\n",
              " 'RollNo': ['VI-123', 'VI-124', 'VI-125', 'VI-126', 'VI-127'],\n",
              " 'Sec': ['A', 'B', 'C', 'D', 'E'],\n",
              " 'Std': ['VI', 'VI', 'VI', 'VI', 'VI'],\n",
              " 'Age': [10, 12, 14, 16],\n",
              " 'Rank': [1, 2, 3]}"
            ]
          },
          "metadata": {},
          "execution_count": 24
        }
      ]
    },
    {
      "cell_type": "markdown",
      "source": [
        "CONDITIONAL STATEMENT\n",
        "\n"
      ],
      "metadata": {
        "id": "T9Noblp_ZPsd"
      }
    }
  ]
}