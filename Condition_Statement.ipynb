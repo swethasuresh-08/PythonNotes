{
  "nbformat": 4,
  "nbformat_minor": 0,
  "metadata": {
    "colab": {
      "provenance": [],
      "authorship_tag": "ABX9TyPULqzxqmSKyy7l302lv2/i",
      "include_colab_link": true
    },
    "kernelspec": {
      "name": "python3",
      "display_name": "Python 3"
    },
    "language_info": {
      "name": "python"
    }
  },
  "cells": [
    {
      "cell_type": "markdown",
      "metadata": {
        "id": "view-in-github",
        "colab_type": "text"
      },
      "source": [
        "<a href=\"https://colab.research.google.com/github/swethasuresh-08/PythonNotes/blob/main/Condition_Statement.ipynb\" target=\"_parent\"><img src=\"https://colab.research.google.com/assets/colab-badge.svg\" alt=\"Open In Colab\"/></a>"
      ]
    },
    {
      "cell_type": "markdown",
      "source": [
        "**IF,ELIF,ELSE**"
      ],
      "metadata": {
        "id": "BDk16zOW1nCX"
      }
    },
    {
      "cell_type": "code",
      "execution_count": 1,
      "metadata": {
        "colab": {
          "base_uri": "https://localhost:8080/"
        },
        "id": "F1vmPHLi1ja7",
        "outputId": "93f8b1bd-763a-47e7-ccb9-2ee1e9edf27b"
      },
      "outputs": [
        {
          "output_type": "execute_result",
          "data": {
            "text/plain": [
              "{'Name': ['Ramesh',\n",
              "  'Suresh',\n",
              "  'Raja',\n",
              "  'Jana',\n",
              "  'Arjun',\n",
              "  'Vino',\n",
              "  'Jack',\n",
              "  'Divya'],\n",
              " 'RollNo': ['VI-123',\n",
              "  'VI-124',\n",
              "  'VI-125',\n",
              "  'VI-126',\n",
              "  'VI-127',\n",
              "  'VI-128',\n",
              "  'VI-129',\n",
              "  'VI-130'],\n",
              " 'Sec': ['A', 'B', 'C', 'D', 'E', 'F', 'G', 'H'],\n",
              " 'Std': ['VI', 'VI', 'VI', 'VI', 'VI', 'VI', 'VI', 'VI']}"
            ]
          },
          "metadata": {},
          "execution_count": 1
        }
      ],
      "source": [
        "Student_details={\n",
        "    'Name':['Ramesh','Suresh','Raja','Jana','Arjun','Vino','Jack','Divya'],\n",
        "    'RollNo':['VI-123','VI-124','VI-125','VI-126','VI-127','VI-128','VI-129','VI-130'],\n",
        "    'Sec':['A','B','C','D','E','F','G','H'],\n",
        "    'Std':['VI','VI','VI','VI','VI','VI','VI','VI']\n",
        "}\n",
        "Student_details"
      ]
    },
    {
      "cell_type": "code",
      "source": [
        "Student_details.update({'Age':[12,13,14,15,16,17,18,19]})"
      ],
      "metadata": {
        "id": "gfIM8_qM2FtR"
      },
      "execution_count": 2,
      "outputs": []
    },
    {
      "cell_type": "code",
      "source": [
        "if 'Age' in Student_details:\n",
        "  Student_details['Age'][0]=10\n",
        "  print(Student_details)"
      ],
      "metadata": {
        "colab": {
          "base_uri": "https://localhost:8080/"
        },
        "id": "omXI0Yzz2sh4",
        "outputId": "01efde10-6d4a-4fab-e3e7-e3bc72632c2b"
      },
      "execution_count": 4,
      "outputs": [
        {
          "output_type": "stream",
          "name": "stdout",
          "text": [
            "{'Name': ['Ramesh', 'Suresh', 'Raja', 'Jana', 'Arjun', 'Vino', 'Jack', 'Divya'], 'RollNo': ['VI-123', 'VI-124', 'VI-125', 'VI-126', 'VI-127', 'VI-128', 'VI-129', 'VI-130'], 'Sec': ['A', 'B', 'C', 'D', 'E', 'F', 'G', 'H'], 'Std': ['VI', 'VI', 'VI', 'VI', 'VI', 'VI', 'VI', 'VI'], 'Age': [10, 13, 14, 15, 16, 17, 18, 19]}\n"
          ]
        }
      ]
    },
    {
      "cell_type": "code",
      "source": [
        "rollno=input('Enter the RollNo: ').upper()\n",
        "\n",
        "if rollno in Student_details['RollNo']:\n",
        "  pos=Student_details['RollNo'].index(rollno)\n",
        "  print(pos)\n",
        "else:\n",
        "  print('RollNo Not Found')"
      ],
      "metadata": {
        "colab": {
          "base_uri": "https://localhost:8080/"
        },
        "id": "8BrydJu13D60",
        "outputId": "8032cc67-1942-4794-bc3f-44f96c42cf11"
      },
      "execution_count": 7,
      "outputs": [
        {
          "output_type": "stream",
          "name": "stdout",
          "text": [
            "Enter the RollNo: vi-986\n",
            "RollNo Not Found\n"
          ]
        }
      ]
    },
    {
      "cell_type": "code",
      "source": [
        "#2 Even , 3 odd and 0 ZERO\n",
        "number = int(input('Enter the number: '))\n",
        "if number%2==0 and number!=0:\n",
        "  print('Even')\n",
        "elif number%2!=0:\n",
        "  print('Odd')\n",
        "else:\n",
        "  print('Zero')"
      ],
      "metadata": {
        "colab": {
          "base_uri": "https://localhost:8080/"
        },
        "id": "eTigS2tG4gUl",
        "outputId": "508136e2-46c6-45ed-ddbe-37a1fc865cd7"
      },
      "execution_count": 14,
      "outputs": [
        {
          "output_type": "stream",
          "name": "stdout",
          "text": [
            "Enter the number: 0\n",
            "Zero\n"
          ]
        }
      ]
    },
    {
      "cell_type": "code",
      "source": [
        "# 90 > Doctor , 80 > Engineer, 70>Arts , 50> PolyTechnic , <50 Fail\n",
        "\n",
        "Name = input('Enter your Name : ')\n",
        "Marks=int(input('Enter your Marks : '))\n",
        "\n",
        "if Marks >= 90 :\n",
        "  NeetMark=int(input('Enter your Neet Marks : '))\n",
        "  if NeetMark >= 80:\n",
        "   print(f'{Name} is Eligible for Doctor')\n",
        "  else:\n",
        "    print(f'{Name} is not Eligible for doctor')\n",
        "elif Marks >= 80 :\n",
        "  print(f'{Name} is Eligible for Engineer')\n",
        "elif Marks >= 70 :\n",
        "  print(f'{Name} is Eligible for Arts')\n",
        "elif Marks >=50 :\n",
        "  print(f'{Name} is Eligible for PolyTechnic')\n",
        "else:\n",
        "  print(f'{Name} has Failed')"
      ],
      "metadata": {
        "id": "OVjaT5_q6jfe"
      },
      "execution_count": null,
      "outputs": []
    },
    {
      "cell_type": "code",
      "source": [
        "NumRoundFloat=round(float(input('Enter Float number for round: ')))\n",
        "NumRoundInt=int(float(input('Enter Float number for int conversion : ')))\n",
        "print(f'{NumRoundFloat} rounded float number')\n",
        "print(f'{NumRoundInt} rounded int number')"
      ],
      "metadata": {
        "colab": {
          "base_uri": "https://localhost:8080/"
        },
        "id": "-PufU5Rc8jW9",
        "outputId": "40fff63a-c037-494b-d9c0-c1054c2e2585"
      },
      "execution_count": 27,
      "outputs": [
        {
          "output_type": "stream",
          "name": "stdout",
          "text": [
            "Enter Float number for round: 9.8\n",
            "Enter Float number for int conversion : 9.6\n",
            "10 rounded float number\n",
            "9 rounded int number\n"
          ]
        }
      ]
    },
    {
      "cell_type": "markdown",
      "source": [
        "##Loops\n",
        "While , for Loop\n"
      ],
      "metadata": {
        "id": "CCUlhnD494TP"
      }
    },
    {
      "cell_type": "code",
      "source": [
        "Names=['Kumar','Ramesh','Suresh','Raja','Jana','Jack','Arjun']\n",
        "\n",
        "for i in Names:\n",
        "  if len(i)<5 :\n",
        "    print(i)"
      ],
      "metadata": {
        "colab": {
          "base_uri": "https://localhost:8080/"
        },
        "id": "eop01yMz_LMj",
        "outputId": "41a702a4-5366-44d0-d72e-4d93275c8c14"
      },
      "execution_count": 29,
      "outputs": [
        {
          "output_type": "stream",
          "name": "stdout",
          "text": [
            "Raja\n",
            "Jana\n",
            "Jack\n"
          ]
        }
      ]
    },
    {
      "cell_type": "code",
      "source": [
        "NewNames=[]\n",
        "for Name in Names:\n",
        "  for letters in Name:\n",
        "    if letters in 'AEIOUaeiou':\n",
        "      Name=Name.replace(letters,'*')\n",
        "      print(Name,letters)\n",
        "  NewNames.append(Name)\n",
        "print(*NewNames)"
      ],
      "metadata": {
        "colab": {
          "base_uri": "https://localhost:8080/"
        },
        "id": "xaqURJM3C3wV",
        "outputId": "aa759a5b-0ff0-4115-d143-7b30c5d7566f"
      },
      "execution_count": 50,
      "outputs": [
        {
          "output_type": "stream",
          "name": "stdout",
          "text": [
            "K*mar u\n",
            "K*m*r a\n",
            "R*mesh a\n",
            "R*m*sh e\n",
            "S*resh u\n",
            "S*r*sh e\n",
            "R*j* a\n",
            "R*j* a\n",
            "J*n* a\n",
            "J*n* a\n",
            "J*ck a\n",
            "*rjun A\n",
            "*rj*n u\n",
            "K*m*r R*m*sh S*r*sh R*j* J*n* J*ck *rj*n\n"
          ]
        }
      ]
    },
    {
      "cell_type": "markdown",
      "source": [
        "For Loop Work Based on index and Element\n"
      ],
      "metadata": {
        "id": "cA4-KKeuPTeM"
      }
    },
    {
      "cell_type": "code",
      "source": [
        "#For Loop Based on element\n",
        "\n",
        "for i in Names:\n",
        "  print(i)\n",
        "for i in Names[::-1]:\n",
        "  print(i)"
      ],
      "metadata": {
        "colab": {
          "base_uri": "https://localhost:8080/"
        },
        "id": "xTlXJiXvPc48",
        "outputId": "6b667b9f-479d-4449-cfef-4cd4dc61422c"
      },
      "execution_count": 62,
      "outputs": [
        {
          "output_type": "stream",
          "name": "stdout",
          "text": [
            "Kumar\n",
            "Ramesh\n",
            "Suresh\n",
            "Raja\n",
            "Jana\n",
            "Jack\n",
            "Arjun\n",
            "Arjun\n",
            "Jack\n",
            "Jana\n",
            "Raja\n",
            "Suresh\n",
            "Ramesh\n",
            "Kumar\n"
          ]
        }
      ]
    },
    {
      "cell_type": "code",
      "source": [
        "#For Loop Based on Index\n",
        "Numbers=[10,30,0,9,8,7,6,7,0,8,0] #2,8,10\n",
        "print(range(len(Numbers))) #[0,len-1]\n",
        "for i in range(len(Numbers)):\n",
        "  if Numbers[i]==0:\n",
        "    print(i)"
      ],
      "metadata": {
        "colab": {
          "base_uri": "https://localhost:8080/"
        },
        "id": "-qkK96p6GNdX",
        "outputId": "9ff8547e-d510-4f0f-bc60-f62b4b3adb6e"
      },
      "execution_count": 61,
      "outputs": [
        {
          "output_type": "stream",
          "name": "stdout",
          "text": [
            "range(0, 11)\n",
            "2\n",
            "8\n",
            "10\n"
          ]
        }
      ]
    },
    {
      "cell_type": "code",
      "source": [
        "#To Get both index and element we use Enumarate\n",
        "#🔢 What is enumerate() in Python?\n",
        "#enumerate() is a built-in Python function that adds a counter (index) to an iterable (like a list, tuple, or string), and returns it as an enumerate object.\n",
        "\n",
        "#It’s super useful when you need both the item and its index in a loop.\n",
        "\n",
        "fruits = ['apple', 'banana', 'cherry']\n",
        "\n",
        "for index, fruit in enumerate(fruits):\n",
        "    print(index, fruit)"
      ],
      "metadata": {
        "colab": {
          "base_uri": "https://localhost:8080/"
        },
        "id": "Gr-OX7WnQKMp",
        "outputId": "25322b54-ae41-4007-c839-e5f19e36a33d"
      },
      "execution_count": 65,
      "outputs": [
        {
          "output_type": "stream",
          "name": "stdout",
          "text": [
            "0 apple\n",
            "1 banana\n",
            "2 cherry\n"
          ]
        }
      ]
    },
    {
      "cell_type": "markdown",
      "source": [
        "##Zip function is used for parallel access of two list"
      ],
      "metadata": {
        "id": "oAUjMiL-T56l"
      }
    },
    {
      "cell_type": "code",
      "source": [
        "Number1=[10,30,0,9,8,7,6,7,0]\n",
        "Number2=[100,300,10,90,80,70,60,70,0,80,10]\n",
        "\n",
        "for num1,num2 in zip(Number1,Number2):\n",
        "  print(num1+num2)"
      ],
      "metadata": {
        "colab": {
          "base_uri": "https://localhost:8080/"
        },
        "id": "EpGjRaoOSq92",
        "outputId": "41a12d90-6ac3-4bb1-efae-216ada57760f"
      },
      "execution_count": 73,
      "outputs": [
        {
          "output_type": "stream",
          "name": "stdout",
          "text": [
            "110\n",
            "330\n",
            "10\n",
            "99\n",
            "88\n",
            "77\n",
            "66\n",
            "77\n",
            "0\n"
          ]
        }
      ]
    },
    {
      "cell_type": "code",
      "source": [
        "#Calculate the bonus\n",
        "Bonus=[]\n",
        "Emp={\n",
        "    'Emp_Id':[1,2,3,4,5,6,7,8,9,10],\n",
        "    'Emp_Name':['Ramesh','Suresh','Raja','Jana','Arjun','Vino','Jack','Divya','Jack','SWE'],\n",
        "    'Emp_Salary':[10000,20000,30000,40000,50000,60000,70000,80000,90000,100000],\n",
        "    'Year_of_Exp':[2,5,6,1,7,9,10,2,3,4]\n",
        "}\n",
        "for Emp_Salary,Year_of_Exp in zip(Emp['Emp_Salary'],Emp['Year_of_Exp']):\n",
        "\n",
        "    Bonus.append(int(Emp_Salary*12*Year_of_Exp*0.01))\n",
        "    Emp['Bonus']=Bonus\n",
        "    print(Emp)"
      ],
      "metadata": {
        "colab": {
          "base_uri": "https://localhost:8080/"
        },
        "id": "jGi4O5_4Ucs5",
        "outputId": "4367c792-465f-40d3-fac7-49dac4570afc"
      },
      "execution_count": 81,
      "outputs": [
        {
          "output_type": "stream",
          "name": "stdout",
          "text": [
            "{'Emp_Id': [1, 2, 3, 4, 5, 6, 7, 8, 9, 10], 'Emp_Name': ['Ramesh', 'Suresh', 'Raja', 'Jana', 'Arjun', 'Vino', 'Jack', 'Divya', 'Jack', 'SWE'], 'Emp_Salary': [10000, 20000, 30000, 40000, 50000, 60000, 70000, 80000, 90000, 100000], 'Year_of_Exp': [2, 5, 6, 1, 7, 9, 10, 2, 3, 4], 'Bonus': [2400]}\n",
            "{'Emp_Id': [1, 2, 3, 4, 5, 6, 7, 8, 9, 10], 'Emp_Name': ['Ramesh', 'Suresh', 'Raja', 'Jana', 'Arjun', 'Vino', 'Jack', 'Divya', 'Jack', 'SWE'], 'Emp_Salary': [10000, 20000, 30000, 40000, 50000, 60000, 70000, 80000, 90000, 100000], 'Year_of_Exp': [2, 5, 6, 1, 7, 9, 10, 2, 3, 4], 'Bonus': [2400, 12000]}\n",
            "{'Emp_Id': [1, 2, 3, 4, 5, 6, 7, 8, 9, 10], 'Emp_Name': ['Ramesh', 'Suresh', 'Raja', 'Jana', 'Arjun', 'Vino', 'Jack', 'Divya', 'Jack', 'SWE'], 'Emp_Salary': [10000, 20000, 30000, 40000, 50000, 60000, 70000, 80000, 90000, 100000], 'Year_of_Exp': [2, 5, 6, 1, 7, 9, 10, 2, 3, 4], 'Bonus': [2400, 12000, 21600]}\n",
            "{'Emp_Id': [1, 2, 3, 4, 5, 6, 7, 8, 9, 10], 'Emp_Name': ['Ramesh', 'Suresh', 'Raja', 'Jana', 'Arjun', 'Vino', 'Jack', 'Divya', 'Jack', 'SWE'], 'Emp_Salary': [10000, 20000, 30000, 40000, 50000, 60000, 70000, 80000, 90000, 100000], 'Year_of_Exp': [2, 5, 6, 1, 7, 9, 10, 2, 3, 4], 'Bonus': [2400, 12000, 21600, 4800]}\n",
            "{'Emp_Id': [1, 2, 3, 4, 5, 6, 7, 8, 9, 10], 'Emp_Name': ['Ramesh', 'Suresh', 'Raja', 'Jana', 'Arjun', 'Vino', 'Jack', 'Divya', 'Jack', 'SWE'], 'Emp_Salary': [10000, 20000, 30000, 40000, 50000, 60000, 70000, 80000, 90000, 100000], 'Year_of_Exp': [2, 5, 6, 1, 7, 9, 10, 2, 3, 4], 'Bonus': [2400, 12000, 21600, 4800, 42000]}\n",
            "{'Emp_Id': [1, 2, 3, 4, 5, 6, 7, 8, 9, 10], 'Emp_Name': ['Ramesh', 'Suresh', 'Raja', 'Jana', 'Arjun', 'Vino', 'Jack', 'Divya', 'Jack', 'SWE'], 'Emp_Salary': [10000, 20000, 30000, 40000, 50000, 60000, 70000, 80000, 90000, 100000], 'Year_of_Exp': [2, 5, 6, 1, 7, 9, 10, 2, 3, 4], 'Bonus': [2400, 12000, 21600, 4800, 42000, 64800]}\n",
            "{'Emp_Id': [1, 2, 3, 4, 5, 6, 7, 8, 9, 10], 'Emp_Name': ['Ramesh', 'Suresh', 'Raja', 'Jana', 'Arjun', 'Vino', 'Jack', 'Divya', 'Jack', 'SWE'], 'Emp_Salary': [10000, 20000, 30000, 40000, 50000, 60000, 70000, 80000, 90000, 100000], 'Year_of_Exp': [2, 5, 6, 1, 7, 9, 10, 2, 3, 4], 'Bonus': [2400, 12000, 21600, 4800, 42000, 64800, 84000]}\n",
            "{'Emp_Id': [1, 2, 3, 4, 5, 6, 7, 8, 9, 10], 'Emp_Name': ['Ramesh', 'Suresh', 'Raja', 'Jana', 'Arjun', 'Vino', 'Jack', 'Divya', 'Jack', 'SWE'], 'Emp_Salary': [10000, 20000, 30000, 40000, 50000, 60000, 70000, 80000, 90000, 100000], 'Year_of_Exp': [2, 5, 6, 1, 7, 9, 10, 2, 3, 4], 'Bonus': [2400, 12000, 21600, 4800, 42000, 64800, 84000, 19200]}\n",
            "{'Emp_Id': [1, 2, 3, 4, 5, 6, 7, 8, 9, 10], 'Emp_Name': ['Ramesh', 'Suresh', 'Raja', 'Jana', 'Arjun', 'Vino', 'Jack', 'Divya', 'Jack', 'SWE'], 'Emp_Salary': [10000, 20000, 30000, 40000, 50000, 60000, 70000, 80000, 90000, 100000], 'Year_of_Exp': [2, 5, 6, 1, 7, 9, 10, 2, 3, 4], 'Bonus': [2400, 12000, 21600, 4800, 42000, 64800, 84000, 19200, 32400]}\n",
            "{'Emp_Id': [1, 2, 3, 4, 5, 6, 7, 8, 9, 10], 'Emp_Name': ['Ramesh', 'Suresh', 'Raja', 'Jana', 'Arjun', 'Vino', 'Jack', 'Divya', 'Jack', 'SWE'], 'Emp_Salary': [10000, 20000, 30000, 40000, 50000, 60000, 70000, 80000, 90000, 100000], 'Year_of_Exp': [2, 5, 6, 1, 7, 9, 10, 2, 3, 4], 'Bonus': [2400, 12000, 21600, 4800, 42000, 64800, 84000, 19200, 32400, 48000]}\n"
          ]
        }
      ]
    },
    {
      "cell_type": "markdown",
      "source": [
        "| Feature               | `for` loop                       | `while` loop                            |\n",
        "| --------------------- | -------------------------------- | --------------------------------------- |\n",
        "| Use case              | When you **know how many times** | When you **don’t know how many times**  |\n",
        "| Control type          | Based on a **sequence or range** | Based on a **condition**                |\n",
        "| Risk of infinite loop | Low (usually well-defined range) | High (if condition never becomes false) |\n",
        "| Common with           | Lists, strings, ranges, dicts    | User input, game loops, waiting tasks   |\n"
      ],
      "metadata": {
        "id": "bv2ffgO1W2gg"
      }
    },
    {
      "cell_type": "code",
      "source": [
        "#While is conditional loop and infinite loop\n",
        "#for is not conditional and finite"
      ],
      "metadata": {
        "id": "fRAVAsOrfTjB"
      },
      "execution_count": null,
      "outputs": []
    },
    {
      "cell_type": "code",
      "source": [
        "for i in range(10):\n",
        "  print(i)"
      ],
      "metadata": {
        "colab": {
          "base_uri": "https://localhost:8080/"
        },
        "id": "843_f44BW3xR",
        "outputId": "dae54145-cb3f-4ae0-83de-5b153a6fff3f"
      },
      "execution_count": 82,
      "outputs": [
        {
          "output_type": "stream",
          "name": "stdout",
          "text": [
            "0\n",
            "1\n",
            "2\n",
            "3\n",
            "4\n",
            "5\n",
            "6\n",
            "7\n",
            "8\n",
            "9\n"
          ]
        }
      ]
    },
    {
      "cell_type": "code",
      "source": [
        "start=0\n",
        "while start<=10:\n",
        "  print(start)\n",
        "  start=start+1"
      ],
      "metadata": {
        "colab": {
          "base_uri": "https://localhost:8080/"
        },
        "id": "NFrJ6_nHcY95",
        "outputId": "68aaf109-512b-4af4-8eed-b8d01f2ffde5"
      },
      "execution_count": 84,
      "outputs": [
        {
          "output_type": "stream",
          "name": "stdout",
          "text": [
            "0\n",
            "1\n",
            "2\n",
            "3\n",
            "4\n",
            "5\n",
            "6\n",
            "7\n",
            "8\n",
            "9\n",
            "10\n"
          ]
        }
      ]
    },
    {
      "cell_type": "code",
      "source": [
        "start=0\n",
        "Numbers=[10,30,0,9,8,7,6,7,0,8,0]\n",
        "while start<len(Numbers):\n",
        "  if Numbers[start]==0:\n",
        "    print(start)\n",
        "  start=start+1"
      ],
      "metadata": {
        "colab": {
          "base_uri": "https://localhost:8080/"
        },
        "id": "aBASrnFBc_Xj",
        "outputId": "181a64bf-7194-4316-c9f1-d24b6225b3d9"
      },
      "execution_count": 85,
      "outputs": [
        {
          "output_type": "stream",
          "name": "stdout",
          "text": [
            "2\n",
            "8\n",
            "10\n"
          ]
        }
      ]
    },
    {
      "cell_type": "code",
      "source": [
        "Name=[]\n",
        "c=3\n",
        "while True:\n",
        "  if(len(Name)==c):\n",
        "    break\n",
        "  else:\n",
        "    name=input(' Enter the name : ')\n",
        "    Name.append(name)\n",
        "Name"
      ],
      "metadata": {
        "colab": {
          "base_uri": "https://localhost:8080/"
        },
        "id": "5dtWYbf4eKvx",
        "outputId": "bb976cdf-2f14-4990-9982-c70b3d103b43"
      },
      "execution_count": 89,
      "outputs": [
        {
          "name": "stdout",
          "output_type": "stream",
          "text": [
            " Enter the name : Dhruv\n",
            " Enter the name : Swe\n",
            " Enter the name : Madan\n"
          ]
        },
        {
          "output_type": "execute_result",
          "data": {
            "text/plain": [
              "['Dhruv', 'Swe', 'Madan']"
            ]
          },
          "metadata": {},
          "execution_count": 89
        }
      ]
    },
    {
      "cell_type": "code",
      "source": [
        "Fruits=['Apple','Orange','Grapes','Apple','Apple','Orange','Apple','Apple']\n",
        "F=list(set(Fruits))\n",
        "Fruits_count=\"\"\n",
        "F.sort()\n",
        "for i in F:\n",
        "  Fruits_count=Fruits_count+i+\" \"+str(Fruits.count(i))+\" \"\n",
        "print(Fruits_count.rstrip())"
      ],
      "metadata": {
        "colab": {
          "base_uri": "https://localhost:8080/"
        },
        "id": "hfFSnM9egYZH",
        "outputId": "12182e1e-6488-4849-b598-ece6b27eba2f"
      },
      "execution_count": 99,
      "outputs": [
        {
          "output_type": "stream",
          "name": "stdout",
          "text": [
            "Apple 5 Grapes 1 Orange 2\n"
          ]
        }
      ]
    }
  ]
}