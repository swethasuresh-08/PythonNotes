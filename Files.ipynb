{
  "nbformat": 4,
  "nbformat_minor": 0,
  "metadata": {
    "colab": {
      "provenance": [],
      "authorship_tag": "ABX9TyMhSW1rf3PtuXYBKRVEcOk7",
      "include_colab_link": true
    },
    "kernelspec": {
      "name": "python3",
      "display_name": "Python 3"
    },
    "language_info": {
      "name": "python"
    }
  },
  "cells": [
    {
      "cell_type": "markdown",
      "metadata": {
        "id": "view-in-github",
        "colab_type": "text"
      },
      "source": [
        "<a href=\"https://colab.research.google.com/github/swethasuresh-08/PythonNotes/blob/main/Files.ipynb\" target=\"_parent\"><img src=\"https://colab.research.google.com/assets/colab-badge.svg\" alt=\"Open In Colab\"/></a>"
      ]
    },
    {
      "cell_type": "markdown",
      "source": [
        "## File Handling means reading,writing,creating and managing files"
      ],
      "metadata": {
        "id": "3WYBpLYcNTAU"
      }
    },
    {
      "cell_type": "code",
      "source": [
        "#Creating File\n",
        "#with Automatically handles file opening and closing\n",
        "#open() will return file object\n",
        "#with file object we can perform various file operations\n",
        "with open('TestFile.txt','w') as f:\n",
        "  f.write('Hello')"
      ],
      "metadata": {
        "id": "7tqfZpp3Nbzg"
      },
      "execution_count": null,
      "outputs": []
    },
    {
      "cell_type": "code",
      "source": [
        "#'w' overwrites\n",
        "with open('TestFile.txt','w') as f:\n",
        "  f.write('Hello Guvi')"
      ],
      "metadata": {
        "id": "WzN_w_vXTRS-"
      },
      "execution_count": null,
      "outputs": []
    },
    {
      "cell_type": "code",
      "source": [
        "#'a' appends the text to file\n",
        "with open('TestFile.txt','a') as f:\n",
        "  f.write('\\tAppended Value')"
      ],
      "metadata": {
        "id": "ppAMbe67TlSV"
      },
      "execution_count": null,
      "outputs": []
    },
    {
      "cell_type": "code",
      "source": [
        "\n",
        "Names=['Madan','Dhruv','Swe']\n",
        "with open('TestFile.txt','w') as f:\n",
        "  for name in Names:\n",
        "    f.write(f'\\n {name}')\n"
      ],
      "metadata": {
        "id": "R6e8-gHWUQfL"
      },
      "execution_count": null,
      "outputs": []
    },
    {
      "cell_type": "code",
      "source": [
        "\n",
        "Names=['Madan\\n','Dhruv\\n','Swe']\n",
        "with open('TestFile.txt','w') as f:\n",
        "    f.writelines(Names)"
      ],
      "metadata": {
        "id": "kqekswmPVcIQ"
      },
      "execution_count": null,
      "outputs": []
    },
    {
      "cell_type": "code",
      "source": [
        "with open('TestFile.txt','r') as f:\n",
        "  print(f.readlines())"
      ],
      "metadata": {
        "colab": {
          "base_uri": "https://localhost:8080/"
        },
        "id": "hWqxwRGBmneM",
        "outputId": "0a86f10a-abf0-43d4-d41d-217551869b6c"
      },
      "execution_count": null,
      "outputs": [
        {
          "output_type": "stream",
          "name": "stdout",
          "text": [
            "['Madan\\n', 'Dhruv\\n', 'Swe']\n"
          ]
        }
      ]
    },
    {
      "cell_type": "code",
      "source": [
        "with open('Math.txt','r') as f:\n",
        "  fileContent=f.readlines()\n",
        "\n",
        "outputLines=[]\n",
        "for equ in fileContent:\n",
        "  strVal=equ.strip().split()\n",
        "  if '+' in strVal:\n",
        "    strVal.append(str(int(strVal[0])+int(strVal[2])))\n",
        "  elif '-' in strVal:\n",
        "    strVal.append(str(int(strVal[0])-int(strVal[2])))\n",
        "  elif '*' in strVal:\n",
        "    strVal.append(str(int(strVal[0])*int(strVal[2])))\n",
        "  elif '/' in strVal:\n",
        "    strVal.append(str(int(strVal[0])/int(strVal[2])))\n",
        "  outputLine=' '.join(strVal)\n",
        "  outputLines.append(outputLine + '\\n')\n",
        "\n",
        "with open('Math.txt','w') as f:\n",
        "   f.writelines(outputLines)"
      ],
      "metadata": {
        "id": "NbX5cttCwrrl"
      },
      "execution_count": 112,
      "outputs": []
    },
    {
      "cell_type": "code",
      "source": [],
      "metadata": {
        "id": "ENqaQ2quE--9"
      },
      "execution_count": null,
      "outputs": []
    },
    {
      "cell_type": "markdown",
      "source": [
        "## Map -- Apply set of functions to iterable\n",
        "## A lambda is an anonymous function — meaning it doesn’t have a name.\n",
        "## You use it when you need a quick, simple function just once or in a small place."
      ],
      "metadata": {
        "id": "BURhxhnqFiqr"
      }
    },
    {
      "cell_type": "code",
      "source": [
        "def square(x):\n",
        "  return x*x\n",
        "square(10)"
      ],
      "metadata": {
        "colab": {
          "base_uri": "https://localhost:8080/"
        },
        "id": "nvuT0gq9FnoC",
        "outputId": "eb785de7-4333-4def-bab2-0d455fde76bb"
      },
      "execution_count": 113,
      "outputs": [
        {
          "output_type": "execute_result",
          "data": {
            "text/plain": [
              "100"
            ]
          },
          "metadata": {},
          "execution_count": 113
        }
      ]
    },
    {
      "cell_type": "code",
      "source": [
        "# lambda argument:operation\n",
        "square=lambda x:x*x\n",
        "square(6)"
      ],
      "metadata": {
        "colab": {
          "base_uri": "https://localhost:8080/"
        },
        "id": "CMge-HXPGQeU",
        "outputId": "53615b3b-b0cb-4fd1-ffc4-de1fa4d2a19e"
      },
      "execution_count": 116,
      "outputs": [
        {
          "output_type": "execute_result",
          "data": {
            "text/plain": [
              "36"
            ]
          },
          "metadata": {},
          "execution_count": 116
        }
      ]
    },
    {
      "cell_type": "code",
      "source": [
        "add=lambda a,b:a+b\n",
        "add(5,6)"
      ],
      "metadata": {
        "colab": {
          "base_uri": "https://localhost:8080/"
        },
        "id": "ohEkryDTGdo6",
        "outputId": "775c2068-ec85-4e11-a25e-d1e8970b3900"
      },
      "execution_count": 117,
      "outputs": [
        {
          "output_type": "execute_result",
          "data": {
            "text/plain": [
              "11"
            ]
          },
          "metadata": {},
          "execution_count": 117
        }
      ]
    },
    {
      "cell_type": "code",
      "source": [
        "num=[1,2,3,4,5]\n",
        "\n",
        "output=list(map(lambda x:x*x,num))\n",
        "output"
      ],
      "metadata": {
        "colab": {
          "base_uri": "https://localhost:8080/"
        },
        "id": "9fxOOroWGtKi",
        "outputId": "ae7c64b6-272e-4a5c-85f9-5abd19fc4f96"
      },
      "execution_count": 118,
      "outputs": [
        {
          "output_type": "execute_result",
          "data": {
            "text/plain": [
              "[1, 4, 9, 16, 25]"
            ]
          },
          "metadata": {},
          "execution_count": 118
        }
      ]
    },
    {
      "cell_type": "code",
      "source": [
        "even=lambda x:x%2==0\n",
        "even(5)"
      ],
      "metadata": {
        "colab": {
          "base_uri": "https://localhost:8080/"
        },
        "id": "iLedV985K4rm",
        "outputId": "42a0a1b8-c9b2-43fd-ba11-0d5570be8ce2"
      },
      "execution_count": 124,
      "outputs": [
        {
          "output_type": "execute_result",
          "data": {
            "text/plain": [
              "False"
            ]
          },
          "metadata": {},
          "execution_count": 124
        }
      ]
    },
    {
      "cell_type": "code",
      "source": [
        "#filter(function, iterable)\n",
        "#Will return the iterable value if the function return true or false\n",
        "num=[1,2,3,4,5,6,7,8,9]\n",
        "output=list(filter(even,num))\n",
        "output"
      ],
      "metadata": {
        "colab": {
          "base_uri": "https://localhost:8080/"
        },
        "id": "YShmA7FXG-Nj",
        "outputId": "bd4bab31-3302-41ab-f6a7-3809ad430f98"
      },
      "execution_count": 125,
      "outputs": [
        {
          "output_type": "execute_result",
          "data": {
            "text/plain": [
              "[2, 4, 6, 8]"
            ]
          },
          "metadata": {},
          "execution_count": 125
        }
      ]
    },
    {
      "cell_type": "code",
      "source": [
        "output=list(map(lambda a,b:a+b,num[:-1],num[1:]))\n",
        "output"
      ],
      "metadata": {
        "colab": {
          "base_uri": "https://localhost:8080/"
        },
        "id": "nQqm_w-6HqHI",
        "outputId": "724cd504-5c8a-4c15-ab9a-e2a2e707064d"
      },
      "execution_count": 123,
      "outputs": [
        {
          "output_type": "execute_result",
          "data": {
            "text/plain": [
              "[3, 5, 7, 9, 11, 13, 15, 17]"
            ]
          },
          "metadata": {},
          "execution_count": 123
        }
      ]
    },
    {
      "cell_type": "code",
      "source": [
        "Age_Filter=list(filter(lambda x : x>3 and x<15,list(map(int,input().split()))))\n",
        "Age_Filter"
      ],
      "metadata": {
        "colab": {
          "base_uri": "https://localhost:8080/"
        },
        "id": "UHWaFcRWMHsi",
        "outputId": "a6b6254d-fc92-485e-b2ca-66d32544743b"
      },
      "execution_count": 133,
      "outputs": [
        {
          "name": "stdout",
          "output_type": "stream",
          "text": [
            "1 2 3 4 5 6\n"
          ]
        },
        {
          "output_type": "execute_result",
          "data": {
            "text/plain": [
              "[4, 5, 6]"
            ]
          },
          "metadata": {},
          "execution_count": 133
        }
      ]
    }
  ]
}