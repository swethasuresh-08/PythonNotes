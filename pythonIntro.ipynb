{
  "nbformat": 4,
  "nbformat_minor": 0,
  "metadata": {
    "colab": {
      "provenance": [],
      "authorship_tag": "ABX9TyMGecDv21EI88niCqTqDqoM",
      "include_colab_link": true
    },
    "kernelspec": {
      "name": "python3",
      "display_name": "Python 3"
    },
    "language_info": {
      "name": "python"
    }
  },
  "cells": [
    {
      "cell_type": "markdown",
      "metadata": {
        "id": "view-in-github",
        "colab_type": "text"
      },
      "source": [
        "<a href=\"https://colab.research.google.com/github/swethasuresh-08/PythonNotes/blob/main/pythonIntro.ipynb\" target=\"_parent\"><img src=\"https://colab.research.google.com/assets/colab-badge.svg\" alt=\"Open In Colab\"/></a>"
      ]
    },
    {
      "cell_type": "markdown",
      "source": [
        "Class 1\n"
      ],
      "metadata": {
        "id": "KAxwpcr5o5OZ"
      }
    },
    {
      "cell_type": "code",
      "source": [
        "#Store python file -- .py Extension\n",
        "#.ipynb - many runs - Interactive python Notebook\n",
        "#Ctrl + Enter - automatically Run\n",
        "#Shift + Enter - run and make new cell\n",
        "#-Python Comments , Basic Human Understanding"
      ],
      "metadata": {
        "id": "r1LaJynFo6uB"
      },
      "execution_count": 45,
      "outputs": []
    },
    {
      "cell_type": "code",
      "source": [
        "#Keywords - Reserved Words\n",
        "print(\"hello world!\")"
      ],
      "metadata": {
        "colab": {
          "base_uri": "https://localhost:8080/"
        },
        "id": "gSp26HvqpPZP",
        "outputId": "54335eee-5151-4570-97de-02f7e745cc5b"
      },
      "execution_count": 5,
      "outputs": [
        {
          "output_type": "stream",
          "name": "stdout",
          "text": [
            "hello world!\n"
          ]
        }
      ]
    },
    {
      "cell_type": "code",
      "source": [
        "#syntax - Strict instructions to be followed while programming"
      ],
      "metadata": {
        "id": "EJG-bbRqpYaT"
      },
      "execution_count": 6,
      "outputs": []
    },
    {
      "cell_type": "code",
      "source": [
        "#Data Types\n",
        "\n",
        "#integer - Whole Number - 1,2,3,4\n",
        "#float - decimal/floating point number = 1.2,1.3,2.3\n",
        "#char - single alphabet - 'A','N'\n",
        "#string - group of character - \"Hello\"\n",
        "#boolean - True or False"
      ],
      "metadata": {
        "id": "qK562oPrq8jT"
      },
      "execution_count": 8,
      "outputs": []
    },
    {
      "cell_type": "code",
      "source": [
        "#Python - Dynamically typed character"
      ],
      "metadata": {
        "id": "WPvYobPTrwkH"
      },
      "execution_count": 10,
      "outputs": []
    },
    {
      "cell_type": "code",
      "source": [
        "#Variables - value changes ex:a=5,a=10\n",
        "#Constants - value doesnot change - ex:pi-3.14\n"
      ],
      "metadata": {
        "id": "oMsj5JNZr5hK"
      },
      "execution_count": 11,
      "outputs": []
    },
    {
      "cell_type": "code",
      "source": [
        "a=5\n",
        "print(type(a))"
      ],
      "metadata": {
        "colab": {
          "base_uri": "https://localhost:8080/"
        },
        "id": "zMzyxZi_tLpy",
        "outputId": "91d7d85a-d76d-4a91-ec5a-a20509221361"
      },
      "execution_count": 14,
      "outputs": [
        {
          "output_type": "stream",
          "name": "stdout",
          "text": [
            "<class 'int'>\n"
          ]
        }
      ]
    },
    {
      "cell_type": "code",
      "source": [
        "b='hello'\n",
        "print(type(b))"
      ],
      "metadata": {
        "colab": {
          "base_uri": "https://localhost:8080/"
        },
        "id": "7t4bjo5FtSZn",
        "outputId": "47d1c8a4-3546-465e-d458-e3dd7a604e33"
      },
      "execution_count": 15,
      "outputs": [
        {
          "output_type": "stream",
          "name": "stdout",
          "text": [
            "<class 'str'>\n"
          ]
        }
      ]
    },
    {
      "cell_type": "code",
      "source": [
        "c=True\n",
        "print(type(c))"
      ],
      "metadata": {
        "colab": {
          "base_uri": "https://localhost:8080/"
        },
        "id": "FUQht0P1tWYZ",
        "outputId": "92d06838-4745-474b-ef91-54a14326dcb8"
      },
      "execution_count": 16,
      "outputs": [
        {
          "output_type": "stream",
          "name": "stdout",
          "text": [
            "<class 'bool'>\n"
          ]
        }
      ]
    },
    {
      "cell_type": "code",
      "source": [
        "#Python is procedural prog language - execute line by line\n",
        "\n",
        "a=5\n",
        "a=5.0\n",
        "a='five'\n",
        "\n",
        "print(a)"
      ],
      "metadata": {
        "colab": {
          "base_uri": "https://localhost:8080/"
        },
        "id": "Uyv-Ltg_tasg",
        "outputId": "1dd95a4c-7d4a-4095-ee72-ffd083fc2818"
      },
      "execution_count": 17,
      "outputs": [
        {
          "output_type": "stream",
          "name": "stdout",
          "text": [
            "five\n"
          ]
        }
      ]
    },
    {
      "cell_type": "code",
      "source": [
        "print(type(a))"
      ],
      "metadata": {
        "colab": {
          "base_uri": "https://localhost:8080/"
        },
        "id": "ZuSVKPOHuQPG",
        "outputId": "ec4586e4-f987-483d-e8a6-c8e57363c60d"
      },
      "execution_count": 18,
      "outputs": [
        {
          "output_type": "stream",
          "name": "stdout",
          "text": [
            "<class 'str'>\n"
          ]
        }
      ]
    },
    {
      "cell_type": "code",
      "source": [
        "#for checking id memory location\n",
        "print(id(a))\n",
        "print(id(b))"
      ],
      "metadata": {
        "colab": {
          "base_uri": "https://localhost:8080/"
        },
        "id": "f55jjRV3uSeg",
        "outputId": "9d95dc87-50fe-4c75-8203-465f295d33a1"
      },
      "execution_count": 22,
      "outputs": [
        {
          "output_type": "stream",
          "name": "stdout",
          "text": [
            "136436357467952\n",
            "136436536503024\n"
          ]
        }
      ]
    },
    {
      "cell_type": "code",
      "source": [
        "#String can be given in both single and double qoutes\n",
        "print('Hello')\n",
        "print(\"Hello\")"
      ],
      "metadata": {
        "colab": {
          "base_uri": "https://localhost:8080/"
        },
        "id": "fuKQoNqmv2fp",
        "outputId": "6f179bda-d167-467f-f73d-2165382458a7"
      },
      "execution_count": 21,
      "outputs": [
        {
          "output_type": "stream",
          "name": "stdout",
          "text": [
            "Hello\n",
            "Hello\n"
          ]
        }
      ]
    },
    {
      "cell_type": "code",
      "source": [
        "#Same data type stored near by\n",
        "f=5\n",
        "h=7\n",
        "g=5.0\n",
        "print(id(f))\n",
        "print(id(h))\n",
        "print(id(g))"
      ],
      "metadata": {
        "colab": {
          "base_uri": "https://localhost:8080/"
        },
        "id": "hATudk_qv-pY",
        "outputId": "5bdf9bc5-4743-4009-8964-0dbd335f4201"
      },
      "execution_count": 26,
      "outputs": [
        {
          "output_type": "stream",
          "name": "stdout",
          "text": [
            "10757864\n",
            "10757928\n",
            "136435161349680\n"
          ]
        }
      ]
    },
    {
      "cell_type": "code",
      "source": [
        "#If variable hol;d same value , it ll be stored in same location\n",
        "a=5\n",
        "b=5\n",
        "print(id(a))\n",
        "print(id(b))"
      ],
      "metadata": {
        "colab": {
          "base_uri": "https://localhost:8080/"
        },
        "id": "5oMdbnDdwOxr",
        "outputId": "94b15a91-d67e-4fce-9ab7-2931d75f9530"
      },
      "execution_count": 27,
      "outputs": [
        {
          "output_type": "stream",
          "name": "stdout",
          "text": [
            "10757864\n",
            "10757864\n"
          ]
        }
      ]
    },
    {
      "cell_type": "code",
      "source": [
        "#We cant concatanate int\n",
        "1+'1'\n"
      ],
      "metadata": {
        "colab": {
          "base_uri": "https://localhost:8080/",
          "height": 141
        },
        "id": "Q-HzDduSyFj7",
        "outputId": "3d7a0338-998a-4e54-e124-44667c8f718f"
      },
      "execution_count": 29,
      "outputs": [
        {
          "output_type": "error",
          "ename": "TypeError",
          "evalue": "unsupported operand type(s) for +: 'int' and 'str'",
          "traceback": [
            "\u001b[0;31m---------------------------------------------------------------------------\u001b[0m",
            "\u001b[0;31mTypeError\u001b[0m                                 Traceback (most recent call last)",
            "\u001b[0;32m<ipython-input-29-2162838320>\u001b[0m in \u001b[0;36m<cell line: 0>\u001b[0;34m()\u001b[0m\n\u001b[0;32m----> 1\u001b[0;31m \u001b[0;36m1\u001b[0m\u001b[0;34m+\u001b[0m\u001b[0;34m'1'\u001b[0m\u001b[0;34m\u001b[0m\u001b[0;34m\u001b[0m\u001b[0m\n\u001b[0m",
            "\u001b[0;31mTypeError\u001b[0m: unsupported operand type(s) for +: 'int' and 'str'"
          ]
        }
      ]
    },
    {
      "cell_type": "code",
      "source": [
        "#input function is string type\n",
        "a=input() #small char - ()-- inbuilt function\n",
        "b=input()\n",
        "print(a+b)"
      ],
      "metadata": {
        "colab": {
          "base_uri": "https://localhost:8080/"
        },
        "id": "w4S_Kr_YyHu1",
        "outputId": "627f2214-0912-4979-da02-b3f75ac7667b"
      },
      "execution_count": 31,
      "outputs": [
        {
          "output_type": "stream",
          "name": "stdout",
          "text": [
            "25\n",
            "25\n",
            "2525\n"
          ]
        }
      ]
    },
    {
      "cell_type": "code",
      "source": [
        "#Datatype Converstion\n",
        "#Convert the string type to required data type for input\n",
        "a=int(input())\n",
        "b=float(input())\n",
        "print(a+b)\n"
      ],
      "metadata": {
        "colab": {
          "base_uri": "https://localhost:8080/"
        },
        "id": "wceKgNFNyVLF",
        "outputId": "64313099-cea7-49a1-cb68-58dd5826ec8b"
      },
      "execution_count": 34,
      "outputs": [
        {
          "output_type": "stream",
          "name": "stdout",
          "text": [
            "25\n",
            "25.5\n",
            "50.5\n"
          ]
        }
      ]
    },
    {
      "cell_type": "code",
      "source": [
        "a=int(input('Enter Your Number : '))\n",
        "b=int(input('Enter Your Number : '))\n",
        "print(a+b)\n"
      ],
      "metadata": {
        "colab": {
          "base_uri": "https://localhost:8080/"
        },
        "id": "rV0kY20xzACX",
        "outputId": "f9681c44-d88f-4eae-8577-78a41a112c89"
      },
      "execution_count": 38,
      "outputs": [
        {
          "output_type": "stream",
          "name": "stdout",
          "text": [
            "Enter Your Number : 5\n",
            "Enter Your Number : 4\n",
            "9\n"
          ]
        }
      ]
    },
    {
      "cell_type": "code",
      "source": [
        "#Variable Naming Convention\n",
        "#Can start wid alphabet\n",
        "#Cant have Numeric in start - Syntax Error\n",
        "#A variable name can start be wid alpha numeric\n",
        "#Can start wid underscore\n",
        "\n",
        "#No space btwn variable name\n",
        "#ex: subash govind is wrong\n",
        "\n",
        "#Instead use Snake Case : subash_govind=123\n",
        "#Camel Case : subashGovind=123\n",
        "#Pascal Case both uppercase : SubashGovind=123\n",
        "\n",
        "\n",
        "_var=4\n",
        "a=5\n",
        "subash_govind=123\n",
        "subashGovind=123\n",
        "SubashGovind=123"
      ],
      "metadata": {
        "id": "Tf_Ykic303FK"
      },
      "execution_count": 47,
      "outputs": []
    },
    {
      "cell_type": "code",
      "source": [
        "#Operator\n",
        "\n",
        "#arithmetic Operator : #mathematic\n",
        "\n",
        "a=9\n",
        "b=2\n",
        "\n",
        "print(a+b)\n",
        "print(a-b)\n",
        "print(a*b)\n",
        "print(a/b) #div - Quotient - give wid decimal - 9/2 = 4.5\n",
        "print(a//b) #Floor Division - Quotient - without decimal , give as integer - 9/2 = 4\n",
        "print(a%b) #modulus - reminder\n",
        "print(a**b) #exponential - power"
      ],
      "metadata": {
        "colab": {
          "base_uri": "https://localhost:8080/"
        },
        "id": "Aqg814_311xF",
        "outputId": "3ffbc037-439b-474e-a70c-cf0c7898500b"
      },
      "execution_count": 53,
      "outputs": [
        {
          "output_type": "stream",
          "name": "stdout",
          "text": [
            "11\n",
            "7\n",
            "18\n",
            "4.5\n",
            "4\n",
            "1\n",
            "81\n"
          ]
        }
      ]
    },
    {
      "cell_type": "code",
      "source": [
        "# a- input()\n",
        "#b - input()\n",
        "\n",
        "#print all arithmetic above"
      ],
      "metadata": {
        "id": "Ia5_9VK659UF"
      },
      "execution_count": null,
      "outputs": []
    }
  ]
}