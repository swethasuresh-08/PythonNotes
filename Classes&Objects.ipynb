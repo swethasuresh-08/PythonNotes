{
  "nbformat": 4,
  "nbformat_minor": 0,
  "metadata": {
    "colab": {
      "provenance": [],
      "authorship_tag": "ABX9TyOWL3QVLZkcxpUWEBFGvgaz",
      "include_colab_link": true
    },
    "kernelspec": {
      "name": "python3",
      "display_name": "Python 3"
    },
    "language_info": {
      "name": "python"
    }
  },
  "cells": [
    {
      "cell_type": "markdown",
      "metadata": {
        "id": "view-in-github",
        "colab_type": "text"
      },
      "source": [
        "<a href=\"https://colab.research.google.com/github/swethasuresh-08/PythonNotes/blob/main/Classes%26Objects.ipynb\" target=\"_parent\"><img src=\"https://colab.research.google.com/assets/colab-badge.svg\" alt=\"Open In Colab\"/></a>"
      ]
    },
    {
      "cell_type": "markdown",
      "source": [
        "In Python, **a class is a blueprint** or template for creating objects. It defines the properties (also called attributes) and behaviors (methods) that the objects will have.\n",
        "\n",
        "**An object is an actual instance of a class. It holds real data and can call the methods defined in the class.**\n",
        "\n",
        "For example, if I have a class called Car with attributes like color and speed, I can create multiple car objects like car1 = Car(\"red\", 100) and car2 = Car(\"blue\", 120). **Each object has its own data but shares the same structure from the class**."
      ],
      "metadata": {
        "id": "NY2vXNgGB25D"
      }
    },
    {
      "cell_type": "code",
      "execution_count": null,
      "metadata": {
        "id": "4g-PjqoFBt2F"
      },
      "outputs": [],
      "source": []
    },
    {
      "cell_type": "markdown",
      "source": [
        "#Inheritance\n",
        "Inheritance is a feature in Python where a class (called the child class) can inherit the properties and methods of another class (called the parent class).\n",
        "\n",
        "It promotes code reusability and lets us build on existing code without rewriting it."
      ],
      "metadata": {
        "id": "O8xExTucDr4G"
      }
    },
    {
      "cell_type": "markdown",
      "source": [
        "| Type         | Description                              |\n",
        "| ------------ | ---------------------------------------- |\n",
        "| Single       | One child inherits from one parent       |\n",
        "| Multiple     | One child inherits from multiple parents |\n",
        "| Multilevel   | Grandparent → Parent → Child             |\n",
        "| Hierarchical | One parent, many children                |\n",
        "| Hybrid       | Combination of any two or more types     |\n"
      ],
      "metadata": {
        "id": "4rFxXC7REE7l"
      }
    },
    {
      "cell_type": "code",
      "source": [],
      "metadata": {
        "id": "v0-PJYGJEGYz"
      },
      "execution_count": null,
      "outputs": []
    },
    {
      "cell_type": "markdown",
      "source": [
        "**Polymorphism means “many forms.”**\n",
        "\n",
        "In Python, it refers to the ability of different objects to respond to the same method in their own way.\n",
        "\n",
        "In short:\n",
        "\n",
        "Same function name → Different behaviors based on object."
      ],
      "metadata": {
        "id": "4egpoDCrE2sv"
      }
    },
    {
      "cell_type": "code",
      "source": [
        "#Polymorphism\n",
        "# + adds two element in int and in string it concat two strings\n",
        "\n",
        "5+5\n",
        "'5'+'5'"
      ],
      "metadata": {
        "colab": {
          "base_uri": "https://localhost:8080/",
          "height": 36
        },
        "id": "Wib9sod0Ht8q",
        "outputId": "18f0c8cf-1594-404d-81eb-ae3f2c74ed12"
      },
      "execution_count": 1,
      "outputs": [
        {
          "output_type": "execute_result",
          "data": {
            "text/plain": [
              "'55'"
            ],
            "application/vnd.google.colaboratory.intrinsic+json": {
              "type": "string"
            }
          },
          "metadata": {},
          "execution_count": 1
        }
      ]
    },
    {
      "cell_type": "markdown",
      "source": [
        "| Type                             | Example                                                          |\n",
        "| -------------------------------- | ---------------------------------------------------------------- |\n",
        "| **Compile-time** (not in Python) | Like function overloading – Python doesn’t support this directly |\n",
        "| **Run-time** ✅                   | Method overriding using inheritance                              |\n",
        "| **Duck Typing** ✅                | “If it walks like a duck and quacks like a duck…”                |\n",
        "| **Operator Overloading** ✅       | Using `+` on strings vs numbers                                  |\n"
      ],
      "metadata": {
        "id": "YtuTU_goFC_O"
      }
    },
    {
      "cell_type": "markdown",
      "source": [
        "Abstraction means hiding internal details and showing only the essential features to the user.\n",
        "\n",
        "In Python, we use abstraction to simplify complex systems by exposing only what’s necessary and keeping the rest hidden."
      ],
      "metadata": {
        "id": "6hYcXVeqGlfO"
      }
    },
    {
      "cell_type": "markdown",
      "source": [
        "class ClassName:\n",
        "\n",
        "class_attribute=value\n",
        "\n",
        "def _init_(self,param1,param2):\n",
        "self.attribute1=param1\n",
        "self.attribute2=param2\n",
        "\n",
        "def mtehod_name(self,param):\n",
        "\n",
        "return something\n"
      ],
      "metadata": {
        "id": "sedxobWvIN1b"
      }
    },
    {
      "cell_type": "code",
      "source": [
        "class Emp:\n",
        "  #attributes\n",
        "  def __init__(self,emp_name,emp_id,emp_salary,emp_designation,emp_department):\n",
        "    self.emp_name=emp_name\n",
        "    self.emp_id=emp_id\n",
        "    self.emp_salary=emp_salary\n",
        "    self.emp_designation=emp_designation\n",
        "    self.emp_department=emp_department\n",
        "  def emp_info(self):\n",
        "    print(f'Emp Name: {self.emp_name},Emp Id: {self.emp_id} Emp Salary: {self.emp_salary} Emp Designation: {self.emp_designation} Emp Department: {self.emp_department}')\n",
        "emp1=Emp('Swe',1,100000,'Data Scientist','IT')\n",
        "\n",
        "emp1.emp_info()"
      ],
      "metadata": {
        "colab": {
          "base_uri": "https://localhost:8080/"
        },
        "id": "HwdEZ_ThI5DJ",
        "outputId": "b0248ca1-b0e0-4d34-9353-52f7d85a97a8"
      },
      "execution_count": 5,
      "outputs": [
        {
          "output_type": "stream",
          "name": "stdout",
          "text": [
            "Emp Name: Swe,Emp Id: 1 Emp Salary: 100000 Emp Designation: Data Scientist Emp Department: IT\n"
          ]
        }
      ]
    },
    {
      "cell_type": "code",
      "source": [],
      "metadata": {
        "id": "OnThEK0JONJv"
      },
      "execution_count": null,
      "outputs": []
    }
  ]
}