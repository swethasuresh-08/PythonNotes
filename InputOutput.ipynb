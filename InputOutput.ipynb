{
  "nbformat": 4,
  "nbformat_minor": 0,
  "metadata": {
    "colab": {
      "provenance": [],
      "authorship_tag": "ABX9TyMqnxOhabgo8oLxCcgxWQi3",
      "include_colab_link": true
    },
    "kernelspec": {
      "name": "python3",
      "display_name": "Python 3"
    },
    "language_info": {
      "name": "python"
    }
  },
  "cells": [
    {
      "cell_type": "markdown",
      "metadata": {
        "id": "view-in-github",
        "colab_type": "text"
      },
      "source": [
        "<a href=\"https://colab.research.google.com/github/swethasuresh-08/PythonNotes/blob/main/InputOutput.ipynb\" target=\"_parent\"><img src=\"https://colab.research.google.com/assets/colab-badge.svg\" alt=\"Open In Colab\"/></a>"
      ]
    },
    {
      "cell_type": "markdown",
      "source": [
        "The input we get is in format of String.\n"
      ],
      "metadata": {
        "id": "FzvL-9ooAw4e"
      }
    },
    {
      "cell_type": "code",
      "source": [
        "Age=input('Enter your age: ')\n",
        "Age"
      ],
      "metadata": {
        "colab": {
          "base_uri": "https://localhost:8080/",
          "height": 53
        },
        "id": "Rw4nV6r5A6xG",
        "outputId": "bd981dc0-9d34-4491-8e83-13802d47204f"
      },
      "execution_count": null,
      "outputs": [
        {
          "name": "stdout",
          "output_type": "stream",
          "text": [
            "Enter your age: 2 3 4\n"
          ]
        },
        {
          "output_type": "execute_result",
          "data": {
            "text/plain": [
              "'2 3 4'"
            ],
            "application/vnd.google.colaboratory.intrinsic+json": {
              "type": "string"
            }
          },
          "metadata": {},
          "execution_count": 16
        }
      ]
    },
    {
      "cell_type": "code",
      "source": [
        "type(Age)"
      ],
      "metadata": {
        "colab": {
          "base_uri": "https://localhost:8080/"
        },
        "id": "5u4aJkVBA_Ui",
        "outputId": "bc3bb167-7288-4592-ae38-8809be050972"
      },
      "execution_count": null,
      "outputs": [
        {
          "output_type": "execute_result",
          "data": {
            "text/plain": [
              "str"
            ]
          },
          "metadata": {},
          "execution_count": 20
        }
      ]
    },
    {
      "cell_type": "code",
      "source": [
        "listAge=list(map(int,Age.split(' ')))\n",
        "listAge"
      ],
      "metadata": {
        "colab": {
          "base_uri": "https://localhost:8080/"
        },
        "id": "uc4FXvsmB_A-",
        "outputId": "e4bf0784-e320-4af4-9707-2f382fdc8430"
      },
      "execution_count": null,
      "outputs": [
        {
          "output_type": "execute_result",
          "data": {
            "text/plain": [
              "[2, 3, 4]"
            ]
          },
          "metadata": {},
          "execution_count": 18
        }
      ]
    },
    {
      "cell_type": "markdown",
      "source": [
        "#* is the unpacking operator\n",
        "\n",
        "It **unpacks the list and passes each element as separate argument** to print()\n",
        "\n",
        "So instead of printing [21, 25, 30], it prints 21 25 30 — without brackets, commas, or quotes"
      ],
      "metadata": {
        "id": "brjEdqtBEJb9"
      }
    },
    {
      "cell_type": "code",
      "source": [
        "print(*listAge)\n"
      ],
      "metadata": {
        "colab": {
          "base_uri": "https://localhost:8080/"
        },
        "id": "dV4XchXwCVzK",
        "outputId": "bb832775-0a01-4645-b62b-1c97d1b90c95"
      },
      "execution_count": null,
      "outputs": [
        {
          "output_type": "stream",
          "name": "stdout",
          "text": [
            "2 3 4\n"
          ]
        }
      ]
    },
    {
      "cell_type": "code",
      "source": [
        "#we join using join function\n",
        "#it works only for string and not int\n",
        "#*works for both int and string\n"
      ],
      "metadata": {
        "id": "Eek8K8fWES0p"
      },
      "execution_count": null,
      "outputs": []
    },
    {
      "cell_type": "code",
      "source": [
        "print(*[1,2,3])"
      ],
      "metadata": {
        "colab": {
          "base_uri": "https://localhost:8080/"
        },
        "id": "Ne6vxVpEGRQ6",
        "outputId": "a15eb317-b50b-4861-c8cb-c79e6f52edf7"
      },
      "execution_count": null,
      "outputs": [
        {
          "output_type": "stream",
          "name": "stdout",
          "text": [
            "1 2 3\n"
          ]
        }
      ]
    },
    {
      "cell_type": "code",
      "source": [
        "print('*'.join(Age))"
      ],
      "metadata": {
        "colab": {
          "base_uri": "https://localhost:8080/"
        },
        "id": "bP8fOScNGUq_",
        "outputId": "f2cacea9-1b68-4007-9775-f09904717e7e"
      },
      "execution_count": null,
      "outputs": [
        {
          "output_type": "stream",
          "name": "stdout",
          "text": [
            "2* *3* *4\n"
          ]
        }
      ]
    },
    {
      "cell_type": "code",
      "source": [
        "#Join used to get input in string and print it seperatly\n",
        "name=input('Enter Name: ')\n",
        "print('*'.join(name))\n",
        "print(*name)"
      ],
      "metadata": {
        "colab": {
          "base_uri": "https://localhost:8080/"
        },
        "id": "hV1Mq4daGZji",
        "outputId": "7c7cd1e4-1e1e-419f-dd75-b5a38994b7e2"
      },
      "execution_count": null,
      "outputs": [
        {
          "output_type": "stream",
          "name": "stdout",
          "text": [
            "Enter Name: SWETHA\n",
            "S*W*E*T*H*A\n",
            "S W E T H A\n"
          ]
        }
      ]
    },
    {
      "cell_type": "code",
      "source": [
        "#Enter the input with space and use strip to remove the space"
      ],
      "metadata": {
        "id": "I6IovEwOG09a"
      },
      "execution_count": null,
      "outputs": []
    },
    {
      "cell_type": "code",
      "source": [
        "NameSpace=input('Enter your name')\n",
        "NameSpace"
      ],
      "metadata": {
        "colab": {
          "base_uri": "https://localhost:8080/",
          "height": 53
        },
        "id": "qiCdOarKLa5s",
        "outputId": "0f4a24d0-9db5-4419-b03a-997c774b4fe9"
      },
      "execution_count": 39,
      "outputs": [
        {
          "name": "stdout",
          "output_type": "stream",
          "text": [
            "Enter your nameSWE##THA\n"
          ]
        },
        {
          "output_type": "execute_result",
          "data": {
            "text/plain": [
              "'SWE##THA'"
            ],
            "application/vnd.google.colaboratory.intrinsic+json": {
              "type": "string"
            }
          },
          "metadata": {},
          "execution_count": 39
        }
      ]
    },
    {
      "cell_type": "code",
      "source": [
        "#Strip is used to remove spaces in word\n",
        "NameSpace.strip()"
      ],
      "metadata": {
        "id": "NvXJG4RoQOBe",
        "colab": {
          "base_uri": "https://localhost:8080/",
          "height": 36
        },
        "outputId": "1b310a88-3e19-496c-f0db-03d8d6ec982f"
      },
      "execution_count": 36,
      "outputs": [
        {
          "output_type": "execute_result",
          "data": {
            "text/plain": [
              "'SWETHA'"
            ],
            "application/vnd.google.colaboratory.intrinsic+json": {
              "type": "string"
            }
          },
          "metadata": {},
          "execution_count": 36
        }
      ]
    },
    {
      "cell_type": "code",
      "source": [
        "NameSpace.rstrip()"
      ],
      "metadata": {
        "colab": {
          "base_uri": "https://localhost:8080/",
          "height": 36
        },
        "id": "PpAG_YnKReVZ",
        "outputId": "5e305aa0-1f0e-4092-a7aa-bd968995cf05"
      },
      "execution_count": 37,
      "outputs": [
        {
          "output_type": "execute_result",
          "data": {
            "text/plain": [
              "'  SWETHA'"
            ],
            "application/vnd.google.colaboratory.intrinsic+json": {
              "type": "string"
            }
          },
          "metadata": {},
          "execution_count": 37
        }
      ]
    },
    {
      "cell_type": "code",
      "source": [
        "NameSpace.lstrip()"
      ],
      "metadata": {
        "colab": {
          "base_uri": "https://localhost:8080/",
          "height": 36
        },
        "id": "5BcWhpnMRkEg",
        "outputId": "e9e296b0-cc66-4c2a-9887-4feaa09ef04d"
      },
      "execution_count": 38,
      "outputs": [
        {
          "output_type": "execute_result",
          "data": {
            "text/plain": [
              "'SWETHA  '"
            ],
            "application/vnd.google.colaboratory.intrinsic+json": {
              "type": "string"
            }
          },
          "metadata": {},
          "execution_count": 38
        }
      ]
    },
    {
      "cell_type": "code",
      "source": [
        "#REPLACE IS USED TO REPLACE THE # WITH EMPTY SPACE\n",
        "#'SWE##THA' ==> 'SWETHA'\n",
        "NameSpace.replace(\"#\",'')\n"
      ],
      "metadata": {
        "colab": {
          "base_uri": "https://localhost:8080/",
          "height": 36
        },
        "id": "-rS2o7qDRnW7",
        "outputId": "d995bc11-6917-4f64-badb-962604fdbb47"
      },
      "execution_count": 41,
      "outputs": [
        {
          "output_type": "execute_result",
          "data": {
            "text/plain": [
              "'SWETHA'"
            ],
            "application/vnd.google.colaboratory.intrinsic+json": {
              "type": "string"
            }
          },
          "metadata": {},
          "execution_count": 41
        }
      ]
    },
    {
      "cell_type": "code",
      "source": [
        "NameSpace.replace('S','s')"
      ],
      "metadata": {
        "colab": {
          "base_uri": "https://localhost:8080/",
          "height": 36
        },
        "id": "ItAsvIcCSlNj",
        "outputId": "06853f04-b964-49ac-a924-dcf05164014a"
      },
      "execution_count": 42,
      "outputs": [
        {
          "output_type": "execute_result",
          "data": {
            "text/plain": [
              "'sWE##THA'"
            ],
            "application/vnd.google.colaboratory.intrinsic+json": {
              "type": "string"
            }
          },
          "metadata": {},
          "execution_count": 42
        }
      ]
    },
    {
      "cell_type": "code",
      "source": [
        "# IN '+'concat it only adds str and not int\n",
        "#In ',' concat it adds both str and int and also adds space\n",
        "nameStr=input('Enter your Name:')\n",
        "Age=int(input('Enter your age:'))\n",
        "print('Your Name is ',nameStr,'Your age is ',Age)"
      ],
      "metadata": {
        "colab": {
          "base_uri": "https://localhost:8080/"
        },
        "id": "VvdNoluASubN",
        "outputId": "c40bc19f-c5b4-4446-8d1d-c92080696882"
      },
      "execution_count": 47,
      "outputs": [
        {
          "output_type": "stream",
          "name": "stdout",
          "text": [
            "Enter your Name:Swe\n",
            "Enter your age:25\n",
            "Your Name is  Swe Your age is  25\n"
          ]
        }
      ]
    },
    {
      "cell_type": "markdown",
      "source": [
        "| Operator | Behavior                        | Example                 | Output     |\n",
        "| -------- | ------------------------------- | ----------------------- | ---------- |\n",
        "| `+`      | Concatenates strings (no space) | `print(\"Hi\" + \"There\")` | `HiThere`  |\n",
        "| `,`      | Separates values with space     | `print(\"Hi\", \"There\")`  | `Hi There` |\n",
        "\n",
        "Example\n",
        "\n",
        "a = \"Hello\"\n",
        "\n",
        "b = \"World\"\n",
        "\n",
        "print(a + b)   # HelloWorld\n",
        "\n",
        "print(a, b)    # Hello World\n",
        "\n",
        "```\n",
        "# This is formatted as code\n",
        "```\n",
        "\n"
      ],
      "metadata": {
        "id": "30dvj3OcYB4s"
      }
    },
    {
      "cell_type": "markdown",
      "source": [
        "➕ + for Math or List Joining:\n",
        "\n",
        "print(2 + 3)           # 5\n",
        "\n",
        "print([1, 2] + [3, 4]) # [1, 2, 3, 4]\n"
      ],
      "metadata": {
        "id": "esB1IuJZZE9f"
      }
    },
    {
      "cell_type": "code",
      "source": [],
      "metadata": {
        "id": "hi7MytygZH1d"
      },
      "execution_count": null,
      "outputs": []
    },
    {
      "cell_type": "code",
      "source": [
        "#Formatted string is used to print the variable\n",
        "print(f'My Name is {NameSpace} and my Age is {Age}')"
      ],
      "metadata": {
        "colab": {
          "base_uri": "https://localhost:8080/"
        },
        "id": "IATYH8dNZNCh",
        "outputId": "92878b88-ea88-4e65-e4f8-4ee9e7a7942c"
      },
      "execution_count": 5,
      "outputs": [
        {
          "output_type": "stream",
          "name": "stdout",
          "text": [
            "My Name is SWE##THA and my Age is 25\n"
          ]
        }
      ]
    },
    {
      "cell_type": "code",
      "source": [],
      "metadata": {
        "id": "MdbiqXw29id_"
      },
      "execution_count": null,
      "outputs": []
    },
    {
      "cell_type": "code",
      "metadata": {
        "id": "aaafa07e"
      },
      "source": [
        "NameSpace = 'SWE##THA'\n",
        "Age = 25"
      ],
      "execution_count": 6,
      "outputs": []
    },
    {
      "cell_type": "code",
      "source": [
        "email=input('Enter the mail id : ')\n",
        "nameMail,domain=email.split('@')\n",
        "domainName,domainProvider=domain.split('.')\n",
        "print(f'Name is {nameMail} and his Mail Domain is {domainName} and provider is {domainProvider}')\n"
      ],
      "metadata": {
        "colab": {
          "base_uri": "https://localhost:8080/"
        },
        "id": "oYiV7ubC-IRb",
        "outputId": "5b141c68-38f4-46e1-ecfa-ae15f0d006f7"
      },
      "execution_count": 8,
      "outputs": [
        {
          "output_type": "stream",
          "name": "stdout",
          "text": [
            "Enter the mail id : swe@gmail.com\n",
            "Name is swe and his Mail Domain is gmail and provider is com\n"
          ]
        }
      ]
    }
  ]
}