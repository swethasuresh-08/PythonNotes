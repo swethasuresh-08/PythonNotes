{
  "nbformat": 4,
  "nbformat_minor": 0,
  "metadata": {
    "colab": {
      "provenance": [],
      "authorship_tag": "ABX9TyPVUSq22HuMN1/5bKVZYkcW",
      "include_colab_link": true
    },
    "kernelspec": {
      "name": "python3",
      "display_name": "Python 3"
    },
    "language_info": {
      "name": "python"
    }
  },
  "cells": [
    {
      "cell_type": "markdown",
      "metadata": {
        "id": "view-in-github",
        "colab_type": "text"
      },
      "source": [
        "<a href=\"https://colab.research.google.com/github/swethasuresh-08/PythonNotes/blob/main/python2.ipynb\" target=\"_parent\"><img src=\"https://colab.research.google.com/assets/colab-badge.svg\" alt=\"Open In Colab\"/></a>"
      ]
    },
    {
      "cell_type": "code",
      "execution_count": 3,
      "metadata": {
        "colab": {
          "base_uri": "https://localhost:8080/"
        },
        "id": "OMgofKakM-oO",
        "outputId": "450565c8-8d8d-49ca-db39-356a7ef8879e"
      },
      "outputs": [
        {
          "output_type": "stream",
          "name": "stdout",
          "text": [
            "Hi MDT46A\n"
          ]
        }
      ],
      "source": [
        "print('Hi MDT46A')"
      ]
    },
    {
      "cell_type": "code",
      "source": [
        "A=10\n",
        "A=20\n",
        "#A has same address,so 10 will be replaced by 20\n",
        "print(A+A)\n"
      ],
      "metadata": {
        "colab": {
          "base_uri": "https://localhost:8080/"
        },
        "id": "Zwsou9PQRmfd",
        "outputId": "dd34a4e4-3fcb-4a41-841a-b16a46e39af7"
      },
      "execution_count": 4,
      "outputs": [
        {
          "output_type": "stream",
          "name": "stdout",
          "text": [
            "40\n"
          ]
        }
      ]
    },
    {
      "cell_type": "code",
      "source": [
        "#String combination of number 0-9, A-Z and special Character\n",
        "Acc_Name=input('Enter your Name : ') #String\n",
        "Bank_Name=input('Enter Bank Name : ')  #String\n",
        "Acc_No=int(input('Enter your Account number')) #Integer Input, 0-9 both positive and negative\n",
        "Bank_Blc=float(input('Enter Bank Balance : ')) #Float accepts 0-9 with decimal points\n",
        "IFSC_Code=input('Enter your IFSC Code : ') #String A-Z,a-z,0-9,Special Character AAA0Z98\n",
        "PAN=input('Enter your PAN :') #String\n",
        "ACC_PIN=int(input('Enter your Account PIN :')) #Integer\n",
        "Acc_Status=bool('Enter your Account Status :') #Boolean\n",
        "Mobile=input('Enter your mobile number :') #String +91-705689965 (Bcos it has special character)\n"
      ],
      "metadata": {
        "colab": {
          "base_uri": "https://localhost:8080/"
        },
        "id": "5MAOE8ATR9SK",
        "outputId": "cfda4e45-dd6d-49df-8503-7b53b4f2c43a"
      },
      "execution_count": 6,
      "outputs": [
        {
          "name": "stdout",
          "output_type": "stream",
          "text": [
            "Enter your Name : Swetha\n",
            "Enter Bank Name : SBI\n",
            "Enter your Account number123456789\n",
            "Enter Bank Balance : 15000000\n",
            "Enter your IFSC Code : AS90000HI59785\n",
            "Enter your PAN :PAN09889898\n",
            "Enter your Account PIN :1234\n",
            "Enter your mobile number :705689653\n"
          ]
        }
      ]
    }
  ]
}